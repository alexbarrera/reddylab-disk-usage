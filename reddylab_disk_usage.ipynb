{
 "cells": [
  {
   "cell_type": "markdown",
   "metadata": {},
   "source": [
    "## Plot reddylab cummulative disk usage  "
   ]
  },
  {
   "cell_type": "markdown",
   "metadata": {},
   "source": [
    "Configuration"
   ]
  },
  {
   "cell_type": "code",
   "execution_count": 1,
   "metadata": {
    "collapsed": true
   },
   "outputs": [],
   "source": [
    "number_of_last_months = 12\n",
    "data_dir = '/data/reddylab/Alex/reddylab_disk_usage/'\n",
    "remove_total_disk_usage = True\n",
    "min_num_tbs = 0.5\n",
    "data_rootdir = '/data/reddylab'"
   ]
  },
  {
   "cell_type": "markdown",
   "metadata": {},
   "source": [
    "Imports"
   ]
  },
  {
   "cell_type": "code",
   "execution_count": 2,
   "metadata": {},
   "outputs": [
    {
     "name": "stderr",
     "output_type": "stream",
     "text": [
      "/data/reddylab/software/miniconda3/envs/alex_py3/lib/python3.7/site-packages/statsmodels/tools/_testing.py:19: FutureWarning: pandas.util.testing is deprecated. Use the functions in the public API at pandas.testing instead.\n",
      "  import pandas.util.testing as tm\n"
     ]
    },
    {
     "data": {
      "text/html": [
       "        <script type=\"text/javascript\">\n",
       "        window.PlotlyConfig = {MathJaxConfig: 'local'};\n",
       "        if (window.MathJax) {MathJax.Hub.Config({SVG: {font: \"STIX-Web\"}});}\n",
       "        if (typeof require !== 'undefined') {\n",
       "        require.undef(\"plotly\");\n",
       "        requirejs.config({\n",
       "            paths: {\n",
       "                'plotly': ['https://cdn.plot.ly/plotly-latest.min']\n",
       "            }\n",
       "        });\n",
       "        require(['plotly'], function(Plotly) {\n",
       "            window._Plotly = Plotly;\n",
       "        });\n",
       "        }\n",
       "        </script>\n",
       "        "
      ]
     },
     "metadata": {},
     "output_type": "display_data"
    }
   ],
   "source": [
    "from datetime import datetime\n",
    "import pandas as pd\n",
    "import seaborn as sns\n",
    "import os\n",
    "import scipy.stats as stats\n",
    "from matplotlib import pyplot as plt\n",
    "import plotly.offline as py\n",
    "py.init_notebook_mode(connected=True)\n",
    "import plotly.express as px\n",
    "sns.set_context('talk')\n",
    "sns.set_style('ticks')\n",
    "plt.rcParams['svg.fonttype'] = 'none'\n",
    "plt.rcParams['pdf.fonttype'] = 42\n",
    "plt.rcParams['lines.markersize'] = 10"
   ]
  },
  {
   "cell_type": "markdown",
   "metadata": {},
   "source": [
    "Auxiliary functions\n"
   ]
  },
  {
   "cell_type": "code",
   "execution_count": 3,
   "metadata": {
    "collapsed": true
   },
   "outputs": [],
   "source": [
    "def monthdelta(date, delta):\n",
    "    \"\"\"Add/subtract a delta number months from a date\"\"\"\n",
    "    m, y = (date.month+delta) % 12, date.year + ((date.month)+delta-1) // 12\n",
    "    if not m: m = 12\n",
    "    d = min(date.day, [31,\n",
    "        29 if y%4==0 and not y%400==0 else 28,31,30,31,30,31,31,30,31,30,31][m-1])\n",
    "    return date.replace(day=d,month=m, year=y)\n",
    "\n",
    "def human_readable_to_mb(h):\n",
    "    \"\"\"Translate from human readable to TBs\"\"\"\n",
    "    human_dict_to_dec = {'G': 1./1024, 'M': 1./(1024*1024), 'T': 1, 'K':1./(1024*1024*1024)}\n",
    "    if h == 0: return h\n",
    "    for unit, val in human_dict_to_dec.items():\n",
    "        if h.endswith(unit):\n",
    "            return float(h.replace(unit, ''))*val\n",
    "    return float(h)"
   ]
  },
  {
   "cell_type": "code",
   "execution_count": 4,
   "metadata": {
    "collapsed": true
   },
   "outputs": [],
   "source": [
    "# Threshold for the last disk usage report to retrieve\n",
    "date_threshold = monthdelta(datetime.date(datetime.now()), - number_of_last_months)"
   ]
  },
  {
   "cell_type": "code",
   "execution_count": 5,
   "metadata": {
    "collapsed": true
   },
   "outputs": [],
   "source": [
    "# resulting dataframe\n",
    "res = pd.DataFrame()  \n",
    "for ii in sorted(os.listdir(data_dir)):\n",
    "    # Make sure we are grabbing a disk usage file (YYYY-MM-DD.txt)\n",
    "    # and that the date is within the last number of months specified above\n",
    "    try:\n",
    "        if datetime.date(datetime.fromisoformat(ii[:10])) < date_threshold or len(ii) != 14:\n",
    "            continue\n",
    "    except:\n",
    "        continue\n",
    "    res = res.join(pd.read_csv(os.path.join(data_dir, ii), sep='\\t', names = [ii], index_col=1), how='outer')\n",
    "\n",
    "# Remove the rootdir aggregate usage, redundant with total when using \"du -ch\"\n",
    "res.drop([data_rootdir], inplace=True)\n",
    "\n",
    "# Should we remove the \"total\" disk space usage from the plot? Sum of all individual folders \n",
    "if remove_total_disk_usage:\n",
    "    res.drop(['total'], inplace=True)\n",
    "\n",
    "# Fill NA with zeros, for new/defunct folders \n",
    "res.fillna(0, inplace=True)"
   ]
  },
  {
   "cell_type": "code",
   "execution_count": 6,
   "metadata": {
    "collapsed": true
   },
   "outputs": [],
   "source": [
    "# Translate usage to TBs\n",
    "res = res.applymap(human_readable_to_mb)\n",
    "# Filter results to improve readibility\n",
    "res = res[res.max(axis=1)>min_num_tbs]\n",
    "# Add folders in index as column\n",
    "res = res.reset_index()"
   ]
  },
  {
   "cell_type": "code",
   "execution_count": 7,
   "metadata": {
    "collapsed": true
   },
   "outputs": [],
   "source": [
    "# Melt the dataframe to plot it\n",
    "res_melted = pd.melt(res, id_vars=['index'],)"
   ]
  },
  {
   "cell_type": "markdown",
   "metadata": {},
   "source": [
    "### HARDAC disk usage over time"
   ]
  },
  {
   "cell_type": "code",
   "execution_count": 8,
   "metadata": {},
   "outputs": [
    {
     "data": {
      "application/vnd.plotly.v1+json": {
       "config": {
        "plotlyServerURL": "https://plot.ly"
       },
       "data": [
        {
         "hoverlabel": {
          "namelength": 0
         },
         "hovertemplate": "index=/data/reddylab/Alex<br>variable=%{x}<br>value=%{y}",
         "legendgroup": "/data/reddylab/Alex",
         "marker": {
          "color": "#636efa",
          "symbol": "circle"
         },
         "mode": "markers+lines",
         "name": "/data/reddylab/Alex",
         "showlegend": true,
         "type": "scattergl",
         "x": [
          "2019-05-11.txt",
          "2019-05-18.txt",
          "2019-05-25.txt",
          "2019-05-31.txt",
          "2019-06-08.txt",
          "2019-06-14.txt",
          "2019-06-22.txt",
          "2019-06-28.txt",
          "2019-07-05.txt",
          "2019-07-13.txt",
          "2019-07-19.txt",
          "2019-07-26.txt",
          "2019-08-02.txt",
          "2019-08-10.txt",
          "2019-08-17.txt",
          "2019-08-24.txt",
          "2019-08-31.txt",
          "2019-09-07.txt",
          "2019-09-14.txt",
          "2019-09-21.txt",
          "2019-09-28.txt",
          "2019-10-05.txt",
          "2019-10-12.txt",
          "2019-10-19.txt",
          "2019-10-26.txt",
          "2019-11-02.txt",
          "2019-11-09.txt",
          "2019-11-16.txt",
          "2019-11-23.txt",
          "2019-11-30.txt",
          "2019-12-07.txt",
          "2019-12-14.txt",
          "2019-12-21.txt",
          "2019-12-28.txt",
          "2020-01-04.txt",
          "2020-01-11.txt",
          "2020-01-18.txt",
          "2020-01-25.txt",
          "2020-02-01.txt",
          "2020-02-08.txt",
          "2020-02-15.txt",
          "2020-02-22.txt",
          "2020-02-29.txt",
          "2020-03-07.txt",
          "2020-03-14.txt",
          "2020-03-21.txt",
          "2020-03-28.txt",
          "2020-04-04.txt",
          "2020-04-11.txt",
          "2020-04-18.txt",
          "2020-04-25.txt",
          "2020-05-02.txt"
         ],
         "xaxis": "x",
         "y": [
          0,
          0,
          0,
          0,
          0,
          0,
          22,
          24,
          24,
          24,
          24,
          24,
          24,
          24,
          24,
          24,
          24,
          24,
          24,
          24,
          24,
          24,
          25,
          25,
          25,
          25,
          25,
          26,
          26,
          26,
          26,
          26,
          26,
          26,
          26,
          26,
          29,
          28,
          29,
          29,
          29,
          28,
          28,
          28,
          27,
          26,
          26,
          26,
          26,
          26,
          26,
          26
         ],
         "yaxis": "y"
        },
        {
         "hoverlabel": {
          "namelength": 0
         },
         "hovertemplate": "index=/data/reddylab/Analyses<br>variable=%{x}<br>value=%{y}",
         "legendgroup": "/data/reddylab/Analyses",
         "marker": {
          "color": "#EF553B",
          "symbol": "circle"
         },
         "mode": "markers+lines",
         "name": "/data/reddylab/Analyses",
         "showlegend": true,
         "type": "scattergl",
         "x": [
          "2019-05-11.txt",
          "2019-05-18.txt",
          "2019-05-25.txt",
          "2019-05-31.txt",
          "2019-06-08.txt",
          "2019-06-14.txt",
          "2019-06-22.txt",
          "2019-06-28.txt",
          "2019-07-05.txt",
          "2019-07-13.txt",
          "2019-07-19.txt",
          "2019-07-26.txt",
          "2019-08-02.txt",
          "2019-08-10.txt",
          "2019-08-17.txt",
          "2019-08-24.txt",
          "2019-08-31.txt",
          "2019-09-07.txt",
          "2019-09-14.txt",
          "2019-09-21.txt",
          "2019-09-28.txt",
          "2019-10-05.txt",
          "2019-10-12.txt",
          "2019-10-19.txt",
          "2019-10-26.txt",
          "2019-11-02.txt",
          "2019-11-09.txt",
          "2019-11-16.txt",
          "2019-11-23.txt",
          "2019-11-30.txt",
          "2019-12-07.txt",
          "2019-12-14.txt",
          "2019-12-21.txt",
          "2019-12-28.txt",
          "2020-01-04.txt",
          "2020-01-11.txt",
          "2020-01-18.txt",
          "2020-01-25.txt",
          "2020-02-01.txt",
          "2020-02-08.txt",
          "2020-02-15.txt",
          "2020-02-22.txt",
          "2020-02-29.txt",
          "2020-03-07.txt",
          "2020-03-14.txt",
          "2020-03-21.txt",
          "2020-03-28.txt",
          "2020-04-04.txt",
          "2020-04-11.txt",
          "2020-04-18.txt",
          "2020-04-25.txt",
          "2020-05-02.txt"
         ],
         "xaxis": "x",
         "y": [
          0,
          0,
          0,
          0,
          0,
          0,
          0.69140625,
          0.69140625,
          0.69140625,
          0.69140625,
          0.69140625,
          0.69140625,
          0.69140625,
          0.69140625,
          0.69140625,
          0.69140625,
          0.69140625,
          0.69140625,
          0.69140625,
          0.69140625,
          0.69140625,
          0.69140625,
          0.69140625,
          0.69140625,
          0.69140625,
          0.69140625,
          0.69140625,
          0.69140625,
          0.69140625,
          0.69140625,
          0.69140625,
          0.69140625,
          0.69140625,
          0.69140625,
          0.69140625,
          0.69140625,
          0.69140625,
          0.69140625,
          0.69140625,
          0.69140625,
          0.69140625,
          0.69140625,
          0.69140625,
          0.69140625,
          0.69140625,
          0.69140625,
          0.69140625,
          0.69140625,
          0.69140625,
          0.69140625,
          0.69140625,
          0.69140625
         ],
         "yaxis": "y"
        },
        {
         "hoverlabel": {
          "namelength": 0
         },
         "hovertemplate": "index=/data/reddylab/Chris<br>variable=%{x}<br>value=%{y}",
         "legendgroup": "/data/reddylab/Chris",
         "marker": {
          "color": "#00cc96",
          "symbol": "circle"
         },
         "mode": "markers+lines",
         "name": "/data/reddylab/Chris",
         "showlegend": true,
         "type": "scattergl",
         "x": [
          "2019-05-11.txt",
          "2019-05-18.txt",
          "2019-05-25.txt",
          "2019-05-31.txt",
          "2019-06-08.txt",
          "2019-06-14.txt",
          "2019-06-22.txt",
          "2019-06-28.txt",
          "2019-07-05.txt",
          "2019-07-13.txt",
          "2019-07-19.txt",
          "2019-07-26.txt",
          "2019-08-02.txt",
          "2019-08-10.txt",
          "2019-08-17.txt",
          "2019-08-24.txt",
          "2019-08-31.txt",
          "2019-09-07.txt",
          "2019-09-14.txt",
          "2019-09-21.txt",
          "2019-09-28.txt",
          "2019-10-05.txt",
          "2019-10-12.txt",
          "2019-10-19.txt",
          "2019-10-26.txt",
          "2019-11-02.txt",
          "2019-11-09.txt",
          "2019-11-16.txt",
          "2019-11-23.txt",
          "2019-11-30.txt",
          "2019-12-07.txt",
          "2019-12-14.txt",
          "2019-12-21.txt",
          "2019-12-28.txt",
          "2020-01-04.txt",
          "2020-01-11.txt",
          "2020-01-18.txt",
          "2020-01-25.txt",
          "2020-02-01.txt",
          "2020-02-08.txt",
          "2020-02-15.txt",
          "2020-02-22.txt",
          "2020-02-29.txt",
          "2020-03-07.txt",
          "2020-03-14.txt",
          "2020-03-21.txt",
          "2020-03-28.txt",
          "2020-04-04.txt",
          "2020-04-11.txt",
          "2020-04-18.txt",
          "2020-04-25.txt",
          "2020-05-02.txt"
         ],
         "xaxis": "x",
         "y": [
          2.7,
          2.7,
          2.7,
          2.7,
          2.7,
          2.7,
          2.7,
          2.7,
          2.7,
          2.7,
          2.7,
          2.7,
          2.7,
          2.7,
          2.7,
          2.7,
          2.7,
          2.7,
          2.7,
          2.7,
          2.7,
          2.7,
          2.7,
          2.7,
          2.7,
          2.7,
          2.7,
          2.7,
          2.7,
          2.7,
          2.7,
          2.7,
          2.7,
          2.7,
          2.7,
          2.7,
          1.2,
          1.2,
          1.2,
          1.2,
          1.2,
          1.2,
          1.2,
          1.2,
          1.2,
          1.2,
          1.2,
          1.2,
          1.2,
          1.2,
          1.2,
          1.2
         ],
         "yaxis": "y"
        },
        {
         "hoverlabel": {
          "namelength": 0
         },
         "hovertemplate": "index=/data/reddylab/Darryl<br>variable=%{x}<br>value=%{y}",
         "legendgroup": "/data/reddylab/Darryl",
         "marker": {
          "color": "#ab63fa",
          "symbol": "circle"
         },
         "mode": "markers+lines",
         "name": "/data/reddylab/Darryl",
         "showlegend": true,
         "type": "scattergl",
         "x": [
          "2019-05-11.txt",
          "2019-05-18.txt",
          "2019-05-25.txt",
          "2019-05-31.txt",
          "2019-06-08.txt",
          "2019-06-14.txt",
          "2019-06-22.txt",
          "2019-06-28.txt",
          "2019-07-05.txt",
          "2019-07-13.txt",
          "2019-07-19.txt",
          "2019-07-26.txt",
          "2019-08-02.txt",
          "2019-08-10.txt",
          "2019-08-17.txt",
          "2019-08-24.txt",
          "2019-08-31.txt",
          "2019-09-07.txt",
          "2019-09-14.txt",
          "2019-09-21.txt",
          "2019-09-28.txt",
          "2019-10-05.txt",
          "2019-10-12.txt",
          "2019-10-19.txt",
          "2019-10-26.txt",
          "2019-11-02.txt",
          "2019-11-09.txt",
          "2019-11-16.txt",
          "2019-11-23.txt",
          "2019-11-30.txt",
          "2019-12-07.txt",
          "2019-12-14.txt",
          "2019-12-21.txt",
          "2019-12-28.txt",
          "2020-01-04.txt",
          "2020-01-11.txt",
          "2020-01-18.txt",
          "2020-01-25.txt",
          "2020-02-01.txt",
          "2020-02-08.txt",
          "2020-02-15.txt",
          "2020-02-22.txt",
          "2020-02-29.txt",
          "2020-03-07.txt",
          "2020-03-14.txt",
          "2020-03-21.txt",
          "2020-03-28.txt",
          "2020-04-04.txt",
          "2020-04-11.txt",
          "2020-04-18.txt",
          "2020-04-25.txt",
          "2020-05-02.txt"
         ],
         "xaxis": "x",
         "y": [
          0,
          0,
          0,
          0,
          0,
          0,
          0.85546875,
          0.85546875,
          0.85546875,
          0.85546875,
          0.85546875,
          0.85546875,
          0.85546875,
          0.85546875,
          0.85546875,
          0.85546875,
          0.85546875,
          0.85546875,
          0.85546875,
          0.85546875,
          0.85546875,
          0.85546875,
          0.85546875,
          0.85546875,
          0.85546875,
          0.85546875,
          0.85546875,
          0.85546875,
          0.85546875,
          0.85546875,
          0.85546875,
          0.85546875,
          0.85546875,
          0.85546875,
          0.85546875,
          0.85546875,
          0.85546875,
          0.85546875,
          0.85546875,
          0.85546875,
          0.85546875,
          0.85546875,
          0.85546875,
          0.85546875,
          0.85546875,
          0.85546875,
          0.85546875,
          0.85546875,
          0.85546875,
          0.85546875,
          0.85546875,
          0.85546875
         ],
         "yaxis": "y"
        },
        {
         "hoverlabel": {
          "namelength": 0
         },
         "hovertemplate": "index=/data/reddylab/Dewran<br>variable=%{x}<br>value=%{y}",
         "legendgroup": "/data/reddylab/Dewran",
         "marker": {
          "color": "#FFA15A",
          "symbol": "circle"
         },
         "mode": "markers+lines",
         "name": "/data/reddylab/Dewran",
         "showlegend": true,
         "type": "scattergl",
         "x": [
          "2019-05-11.txt",
          "2019-05-18.txt",
          "2019-05-25.txt",
          "2019-05-31.txt",
          "2019-06-08.txt",
          "2019-06-14.txt",
          "2019-06-22.txt",
          "2019-06-28.txt",
          "2019-07-05.txt",
          "2019-07-13.txt",
          "2019-07-19.txt",
          "2019-07-26.txt",
          "2019-08-02.txt",
          "2019-08-10.txt",
          "2019-08-17.txt",
          "2019-08-24.txt",
          "2019-08-31.txt",
          "2019-09-07.txt",
          "2019-09-14.txt",
          "2019-09-21.txt",
          "2019-09-28.txt",
          "2019-10-05.txt",
          "2019-10-12.txt",
          "2019-10-19.txt",
          "2019-10-26.txt",
          "2019-11-02.txt",
          "2019-11-09.txt",
          "2019-11-16.txt",
          "2019-11-23.txt",
          "2019-11-30.txt",
          "2019-12-07.txt",
          "2019-12-14.txt",
          "2019-12-21.txt",
          "2019-12-28.txt",
          "2020-01-04.txt",
          "2020-01-11.txt",
          "2020-01-18.txt",
          "2020-01-25.txt",
          "2020-02-01.txt",
          "2020-02-08.txt",
          "2020-02-15.txt",
          "2020-02-22.txt",
          "2020-02-29.txt",
          "2020-03-07.txt",
          "2020-03-14.txt",
          "2020-03-21.txt",
          "2020-03-28.txt",
          "2020-04-04.txt",
          "2020-04-11.txt",
          "2020-04-18.txt",
          "2020-04-25.txt",
          "2020-05-02.txt"
         ],
         "xaxis": "x",
         "y": [
          0,
          0,
          0,
          0,
          0,
          0,
          3.910064697265625e-05,
          4.100799560546875e-05,
          4.100799560546875e-05,
          6.389617919921875e-05,
          6.389617919921875e-05,
          6.389617919921875e-05,
          6.389617919921875e-05,
          6.389617919921875e-05,
          6.389617919921875e-05,
          6.389617919921875e-05,
          6.389617919921875e-05,
          1.9,
          1.9,
          1.9,
          1.9,
          1.9,
          1.9,
          1.9,
          1.9,
          1.9,
          1.9,
          1.9,
          1.9,
          1.9,
          1.9,
          1.9,
          1.9,
          1.9,
          1.9,
          1.9,
          1.9,
          1.9,
          1.9,
          1.9,
          1.9,
          3.7,
          3.7,
          3.7,
          3.7,
          1.7,
          1.7,
          1.7,
          1.7,
          1.7,
          1.7,
          1.7
         ],
         "yaxis": "y"
        },
        {
         "hoverlabel": {
          "namelength": 0
         },
         "hovertemplate": "index=/data/reddylab/Flowcells<br>variable=%{x}<br>value=%{y}",
         "legendgroup": "/data/reddylab/Flowcells",
         "marker": {
          "color": "#19d3f3",
          "symbol": "circle"
         },
         "mode": "markers+lines",
         "name": "/data/reddylab/Flowcells",
         "showlegend": true,
         "type": "scattergl",
         "x": [
          "2019-05-11.txt",
          "2019-05-18.txt",
          "2019-05-25.txt",
          "2019-05-31.txt",
          "2019-06-08.txt",
          "2019-06-14.txt",
          "2019-06-22.txt",
          "2019-06-28.txt",
          "2019-07-05.txt",
          "2019-07-13.txt",
          "2019-07-19.txt",
          "2019-07-26.txt",
          "2019-08-02.txt",
          "2019-08-10.txt",
          "2019-08-17.txt",
          "2019-08-24.txt",
          "2019-08-31.txt",
          "2019-09-07.txt",
          "2019-09-14.txt",
          "2019-09-21.txt",
          "2019-09-28.txt",
          "2019-10-05.txt",
          "2019-10-12.txt",
          "2019-10-19.txt",
          "2019-10-26.txt",
          "2019-11-02.txt",
          "2019-11-09.txt",
          "2019-11-16.txt",
          "2019-11-23.txt",
          "2019-11-30.txt",
          "2019-12-07.txt",
          "2019-12-14.txt",
          "2019-12-21.txt",
          "2019-12-28.txt",
          "2020-01-04.txt",
          "2020-01-11.txt",
          "2020-01-18.txt",
          "2020-01-25.txt",
          "2020-02-01.txt",
          "2020-02-08.txt",
          "2020-02-15.txt",
          "2020-02-22.txt",
          "2020-02-29.txt",
          "2020-03-07.txt",
          "2020-03-14.txt",
          "2020-03-21.txt",
          "2020-03-28.txt",
          "2020-04-04.txt",
          "2020-04-11.txt",
          "2020-04-18.txt",
          "2020-04-25.txt",
          "2020-05-02.txt"
         ],
         "xaxis": "x",
         "y": [
          13,
          13,
          13,
          13,
          13,
          13,
          13,
          13,
          13,
          13,
          13,
          13,
          13,
          13,
          13,
          13,
          13,
          13,
          13,
          13,
          13,
          13,
          13,
          13,
          13,
          13,
          13,
          13,
          13,
          13,
          13,
          13,
          13,
          13,
          13,
          15,
          14,
          14,
          14,
          14,
          14,
          14,
          14,
          14,
          15,
          15,
          15,
          15,
          15,
          15,
          15,
          15
         ],
         "yaxis": "y"
        },
        {
         "hoverlabel": {
          "namelength": 0
         },
         "hovertemplate": "index=/data/reddylab/Hazel<br>variable=%{x}<br>value=%{y}",
         "legendgroup": "/data/reddylab/Hazel",
         "marker": {
          "color": "#FF6692",
          "symbol": "circle"
         },
         "mode": "markers+lines",
         "name": "/data/reddylab/Hazel",
         "showlegend": true,
         "type": "scattergl",
         "x": [
          "2019-05-11.txt",
          "2019-05-18.txt",
          "2019-05-25.txt",
          "2019-05-31.txt",
          "2019-06-08.txt",
          "2019-06-14.txt",
          "2019-06-22.txt",
          "2019-06-28.txt",
          "2019-07-05.txt",
          "2019-07-13.txt",
          "2019-07-19.txt",
          "2019-07-26.txt",
          "2019-08-02.txt",
          "2019-08-10.txt",
          "2019-08-17.txt",
          "2019-08-24.txt",
          "2019-08-31.txt",
          "2019-09-07.txt",
          "2019-09-14.txt",
          "2019-09-21.txt",
          "2019-09-28.txt",
          "2019-10-05.txt",
          "2019-10-12.txt",
          "2019-10-19.txt",
          "2019-10-26.txt",
          "2019-11-02.txt",
          "2019-11-09.txt",
          "2019-11-16.txt",
          "2019-11-23.txt",
          "2019-11-30.txt",
          "2019-12-07.txt",
          "2019-12-14.txt",
          "2019-12-21.txt",
          "2019-12-28.txt",
          "2020-01-04.txt",
          "2020-01-11.txt",
          "2020-01-18.txt",
          "2020-01-25.txt",
          "2020-02-01.txt",
          "2020-02-08.txt",
          "2020-02-15.txt",
          "2020-02-22.txt",
          "2020-02-29.txt",
          "2020-03-07.txt",
          "2020-03-14.txt",
          "2020-03-21.txt",
          "2020-03-28.txt",
          "2020-04-04.txt",
          "2020-04-11.txt",
          "2020-04-18.txt",
          "2020-04-25.txt",
          "2020-05-02.txt"
         ],
         "xaxis": "x",
         "y": [
          0,
          0,
          0,
          0,
          0,
          0,
          0.708984375,
          0.708984375,
          0.708984375,
          0.708984375,
          0.708984375,
          0.708984375,
          0.708984375,
          0.708984375,
          0.708984375,
          0.708984375,
          0.708984375,
          0.708984375,
          0.708984375,
          0.708984375,
          0.708984375,
          0.708984375,
          0.708984375,
          0.708984375,
          0.708984375,
          0.708984375,
          0.708984375,
          0.708984375,
          0.708984375,
          0.708984375,
          0.708984375,
          0.708984375,
          0.708984375,
          0.708984375,
          0.708984375,
          0.708984375,
          0.708984375,
          0.708984375,
          0.708984375,
          0.708984375,
          0.708984375,
          0.708984375,
          0.708984375,
          0.708984375,
          0.708984375,
          0.708984375,
          0.708984375,
          0.708984375,
          0.708984375,
          0.708984375,
          0.708984375,
          0.708984375
         ],
         "yaxis": "y"
        },
        {
         "hoverlabel": {
          "namelength": 0
         },
         "hovertemplate": "index=/data/reddylab/Jungkyun<br>variable=%{x}<br>value=%{y}",
         "legendgroup": "/data/reddylab/Jungkyun",
         "marker": {
          "color": "#B6E880",
          "symbol": "circle"
         },
         "mode": "markers+lines",
         "name": "/data/reddylab/Jungkyun",
         "showlegend": true,
         "type": "scattergl",
         "x": [
          "2019-05-11.txt",
          "2019-05-18.txt",
          "2019-05-25.txt",
          "2019-05-31.txt",
          "2019-06-08.txt",
          "2019-06-14.txt",
          "2019-06-22.txt",
          "2019-06-28.txt",
          "2019-07-05.txt",
          "2019-07-13.txt",
          "2019-07-19.txt",
          "2019-07-26.txt",
          "2019-08-02.txt",
          "2019-08-10.txt",
          "2019-08-17.txt",
          "2019-08-24.txt",
          "2019-08-31.txt",
          "2019-09-07.txt",
          "2019-09-14.txt",
          "2019-09-21.txt",
          "2019-09-28.txt",
          "2019-10-05.txt",
          "2019-10-12.txt",
          "2019-10-19.txt",
          "2019-10-26.txt",
          "2019-11-02.txt",
          "2019-11-09.txt",
          "2019-11-16.txt",
          "2019-11-23.txt",
          "2019-11-30.txt",
          "2019-12-07.txt",
          "2019-12-14.txt",
          "2019-12-21.txt",
          "2019-12-28.txt",
          "2020-01-04.txt",
          "2020-01-11.txt",
          "2020-01-18.txt",
          "2020-01-25.txt",
          "2020-02-01.txt",
          "2020-02-08.txt",
          "2020-02-15.txt",
          "2020-02-22.txt",
          "2020-02-29.txt",
          "2020-03-07.txt",
          "2020-03-14.txt",
          "2020-03-21.txt",
          "2020-03-28.txt",
          "2020-04-04.txt",
          "2020-04-11.txt",
          "2020-04-18.txt",
          "2020-04-25.txt",
          "2020-05-02.txt"
         ],
         "xaxis": "x",
         "y": [
          4.1,
          4.1,
          4.1,
          4.1,
          4.1,
          4.1,
          4.2,
          4.2,
          4.3,
          4.3,
          4.3,
          4.3,
          4.3,
          4.3,
          4.3,
          4.3,
          4.3,
          4.3,
          4.3,
          4.3,
          4.4,
          4.4,
          4.4,
          4.4,
          4.4,
          4.4,
          4.4,
          4.5,
          4.5,
          4.5,
          4.5,
          4.5,
          4.5,
          4.5,
          4.5,
          4.5,
          4.5,
          4.5,
          4.5,
          4.5,
          5.3,
          5.3,
          5.3,
          5.3,
          5.4,
          5.6,
          5.6,
          5.7,
          5.8,
          5.8,
          5.8,
          5.8
         ],
         "yaxis": "y"
        },
        {
         "hoverlabel": {
          "namelength": 0
         },
         "hovertemplate": "index=/data/reddylab/Keith<br>variable=%{x}<br>value=%{y}",
         "legendgroup": "/data/reddylab/Keith",
         "marker": {
          "color": "#FF97FF",
          "symbol": "circle"
         },
         "mode": "markers+lines",
         "name": "/data/reddylab/Keith",
         "showlegend": true,
         "type": "scattergl",
         "x": [
          "2019-05-11.txt",
          "2019-05-18.txt",
          "2019-05-25.txt",
          "2019-05-31.txt",
          "2019-06-08.txt",
          "2019-06-14.txt",
          "2019-06-22.txt",
          "2019-06-28.txt",
          "2019-07-05.txt",
          "2019-07-13.txt",
          "2019-07-19.txt",
          "2019-07-26.txt",
          "2019-08-02.txt",
          "2019-08-10.txt",
          "2019-08-17.txt",
          "2019-08-24.txt",
          "2019-08-31.txt",
          "2019-09-07.txt",
          "2019-09-14.txt",
          "2019-09-21.txt",
          "2019-09-28.txt",
          "2019-10-05.txt",
          "2019-10-12.txt",
          "2019-10-19.txt",
          "2019-10-26.txt",
          "2019-11-02.txt",
          "2019-11-09.txt",
          "2019-11-16.txt",
          "2019-11-23.txt",
          "2019-11-30.txt",
          "2019-12-07.txt",
          "2019-12-14.txt",
          "2019-12-21.txt",
          "2019-12-28.txt",
          "2020-01-04.txt",
          "2020-01-11.txt",
          "2020-01-18.txt",
          "2020-01-25.txt",
          "2020-02-01.txt",
          "2020-02-08.txt",
          "2020-02-15.txt",
          "2020-02-22.txt",
          "2020-02-29.txt",
          "2020-03-07.txt",
          "2020-03-14.txt",
          "2020-03-21.txt",
          "2020-03-28.txt",
          "2020-04-04.txt",
          "2020-04-11.txt",
          "2020-04-18.txt",
          "2020-04-25.txt",
          "2020-05-02.txt"
         ],
         "xaxis": "x",
         "y": [
          0.80078125,
          0.8212890625,
          0.8212890625,
          0.8212890625,
          0.8212890625,
          0.8212890625,
          0.8212890625,
          0.8212890625,
          0.828125,
          0.828125,
          0.828125,
          0.828125,
          0.845703125,
          0.845703125,
          0.845703125,
          0.845703125,
          0.845703125,
          0.845703125,
          0.845703125,
          0.845703125,
          0.845703125,
          0.845703125,
          0.845703125,
          0.845703125,
          0.845703125,
          0.845703125,
          0.845703125,
          0.845703125,
          0.845703125,
          0.845703125,
          0.845703125,
          0.845703125,
          0.845703125,
          0.845703125,
          0.845703125,
          0.845703125,
          0.845703125,
          0.845703125,
          0.951171875,
          1.1,
          1.1,
          1.1,
          1.1,
          1.1,
          1.1,
          0.8740234375,
          0.8740234375,
          0.8740234375,
          0.8740234375,
          0.8115234375,
          0.8115234375,
          0.8056640625
         ],
         "yaxis": "y"
        },
        {
         "hoverlabel": {
          "namelength": 0
         },
         "hovertemplate": "index=/data/reddylab/Reference_Data<br>variable=%{x}<br>value=%{y}",
         "legendgroup": "/data/reddylab/Reference_Data",
         "marker": {
          "color": "#FECB52",
          "symbol": "circle"
         },
         "mode": "markers+lines",
         "name": "/data/reddylab/Reference_Data",
         "showlegend": true,
         "type": "scattergl",
         "x": [
          "2019-05-11.txt",
          "2019-05-18.txt",
          "2019-05-25.txt",
          "2019-05-31.txt",
          "2019-06-08.txt",
          "2019-06-14.txt",
          "2019-06-22.txt",
          "2019-06-28.txt",
          "2019-07-05.txt",
          "2019-07-13.txt",
          "2019-07-19.txt",
          "2019-07-26.txt",
          "2019-08-02.txt",
          "2019-08-10.txt",
          "2019-08-17.txt",
          "2019-08-24.txt",
          "2019-08-31.txt",
          "2019-09-07.txt",
          "2019-09-14.txt",
          "2019-09-21.txt",
          "2019-09-28.txt",
          "2019-10-05.txt",
          "2019-10-12.txt",
          "2019-10-19.txt",
          "2019-10-26.txt",
          "2019-11-02.txt",
          "2019-11-09.txt",
          "2019-11-16.txt",
          "2019-11-23.txt",
          "2019-11-30.txt",
          "2019-12-07.txt",
          "2019-12-14.txt",
          "2019-12-21.txt",
          "2019-12-28.txt",
          "2020-01-04.txt",
          "2020-01-11.txt",
          "2020-01-18.txt",
          "2020-01-25.txt",
          "2020-02-01.txt",
          "2020-02-08.txt",
          "2020-02-15.txt",
          "2020-02-22.txt",
          "2020-02-29.txt",
          "2020-03-07.txt",
          "2020-03-14.txt",
          "2020-03-21.txt",
          "2020-03-28.txt",
          "2020-04-04.txt",
          "2020-04-11.txt",
          "2020-04-18.txt",
          "2020-04-25.txt",
          "2020-05-02.txt"
         ],
         "xaxis": "x",
         "y": [
          23,
          23,
          23,
          23,
          23,
          23,
          23,
          23,
          23,
          23,
          23,
          23,
          23,
          23,
          23,
          24,
          24,
          24,
          24,
          24,
          24,
          24,
          24,
          24,
          24,
          24,
          24,
          24,
          24,
          24,
          24,
          24,
          24,
          24,
          24,
          24,
          3.9,
          3.9,
          3.9,
          3.9,
          3.9,
          3.9,
          3.9,
          3.9,
          3.9,
          3.9,
          3.9,
          3.9,
          3.9,
          3.9,
          3.9,
          3.9
         ],
         "yaxis": "y"
        },
        {
         "hoverlabel": {
          "namelength": 0
         },
         "hovertemplate": "index=/data/reddylab/Tim<br>variable=%{x}<br>value=%{y}",
         "legendgroup": "/data/reddylab/Tim",
         "marker": {
          "color": "#636efa",
          "symbol": "circle"
         },
         "mode": "markers+lines",
         "name": "/data/reddylab/Tim",
         "showlegend": true,
         "type": "scattergl",
         "x": [
          "2019-05-11.txt",
          "2019-05-18.txt",
          "2019-05-25.txt",
          "2019-05-31.txt",
          "2019-06-08.txt",
          "2019-06-14.txt",
          "2019-06-22.txt",
          "2019-06-28.txt",
          "2019-07-05.txt",
          "2019-07-13.txt",
          "2019-07-19.txt",
          "2019-07-26.txt",
          "2019-08-02.txt",
          "2019-08-10.txt",
          "2019-08-17.txt",
          "2019-08-24.txt",
          "2019-08-31.txt",
          "2019-09-07.txt",
          "2019-09-14.txt",
          "2019-09-21.txt",
          "2019-09-28.txt",
          "2019-10-05.txt",
          "2019-10-12.txt",
          "2019-10-19.txt",
          "2019-10-26.txt",
          "2019-11-02.txt",
          "2019-11-09.txt",
          "2019-11-16.txt",
          "2019-11-23.txt",
          "2019-11-30.txt",
          "2019-12-07.txt",
          "2019-12-14.txt",
          "2019-12-21.txt",
          "2019-12-28.txt",
          "2020-01-04.txt",
          "2020-01-11.txt",
          "2020-01-18.txt",
          "2020-01-25.txt",
          "2020-02-01.txt",
          "2020-02-08.txt",
          "2020-02-15.txt",
          "2020-02-22.txt",
          "2020-02-29.txt",
          "2020-03-07.txt",
          "2020-03-14.txt",
          "2020-03-21.txt",
          "2020-03-28.txt",
          "2020-04-04.txt",
          "2020-04-11.txt",
          "2020-04-18.txt",
          "2020-04-25.txt",
          "2020-05-02.txt"
         ],
         "xaxis": "x",
         "y": [
          1.9,
          1.9,
          1.9,
          1.9,
          1.9,
          1.9,
          1.9,
          1.9,
          1.9,
          1.9,
          1.9,
          1.9,
          1.9,
          1.9,
          1.9,
          1.9,
          1.9,
          1.9,
          1.9,
          1.9,
          1.9,
          1.9,
          1.9,
          1.9,
          1.9,
          1.9,
          1.9,
          1.9,
          1.9,
          1.9,
          1.9,
          1.9,
          1.9,
          1.9,
          1.9,
          1.9,
          1.9,
          1.9,
          1.9,
          1.9,
          1.9,
          1.9,
          1.9,
          1.9,
          1.9,
          1.9,
          1.9,
          1.9,
          1.9,
          1.9,
          1.9,
          1.9
         ],
         "yaxis": "y"
        },
        {
         "hoverlabel": {
          "namelength": 0
         },
         "hovertemplate": "index=/data/reddylab/Tony<br>variable=%{x}<br>value=%{y}",
         "legendgroup": "/data/reddylab/Tony",
         "marker": {
          "color": "#EF553B",
          "symbol": "circle"
         },
         "mode": "markers+lines",
         "name": "/data/reddylab/Tony",
         "showlegend": true,
         "type": "scattergl",
         "x": [
          "2019-05-11.txt",
          "2019-05-18.txt",
          "2019-05-25.txt",
          "2019-05-31.txt",
          "2019-06-08.txt",
          "2019-06-14.txt",
          "2019-06-22.txt",
          "2019-06-28.txt",
          "2019-07-05.txt",
          "2019-07-13.txt",
          "2019-07-19.txt",
          "2019-07-26.txt",
          "2019-08-02.txt",
          "2019-08-10.txt",
          "2019-08-17.txt",
          "2019-08-24.txt",
          "2019-08-31.txt",
          "2019-09-07.txt",
          "2019-09-14.txt",
          "2019-09-21.txt",
          "2019-09-28.txt",
          "2019-10-05.txt",
          "2019-10-12.txt",
          "2019-10-19.txt",
          "2019-10-26.txt",
          "2019-11-02.txt",
          "2019-11-09.txt",
          "2019-11-16.txt",
          "2019-11-23.txt",
          "2019-11-30.txt",
          "2019-12-07.txt",
          "2019-12-14.txt",
          "2019-12-21.txt",
          "2019-12-28.txt",
          "2020-01-04.txt",
          "2020-01-11.txt",
          "2020-01-18.txt",
          "2020-01-25.txt",
          "2020-02-01.txt",
          "2020-02-08.txt",
          "2020-02-15.txt",
          "2020-02-22.txt",
          "2020-02-29.txt",
          "2020-03-07.txt",
          "2020-03-14.txt",
          "2020-03-21.txt",
          "2020-03-28.txt",
          "2020-04-04.txt",
          "2020-04-11.txt",
          "2020-04-18.txt",
          "2020-04-25.txt",
          "2020-05-02.txt"
         ],
         "xaxis": "x",
         "y": [
          0,
          0,
          0,
          0,
          0,
          0,
          9.7,
          9.7,
          9.7,
          9.7,
          9.7,
          9.7,
          9.7,
          9.7,
          9.7,
          9.7,
          9.7,
          9.7,
          9.7,
          9.7,
          9.7,
          9.7,
          9.7,
          9.7,
          9.7,
          9.7,
          9.7,
          9.7,
          9.7,
          9.7,
          9.7,
          9.7,
          9.7,
          9.7,
          9.7,
          9.7,
          9.8,
          9.8,
          9.8,
          9.8,
          9.8,
          9.8,
          9.8,
          9.8,
          9.8,
          9.8,
          9.8,
          9.8,
          9.8,
          9.8,
          9.8,
          9.8
         ],
         "yaxis": "y"
        },
        {
         "hoverlabel": {
          "namelength": 0
         },
         "hovertemplate": "index=/data/reddylab/YoungSook<br>variable=%{x}<br>value=%{y}",
         "legendgroup": "/data/reddylab/YoungSook",
         "marker": {
          "color": "#00cc96",
          "symbol": "circle"
         },
         "mode": "markers+lines",
         "name": "/data/reddylab/YoungSook",
         "showlegend": true,
         "type": "scattergl",
         "x": [
          "2019-05-11.txt",
          "2019-05-18.txt",
          "2019-05-25.txt",
          "2019-05-31.txt",
          "2019-06-08.txt",
          "2019-06-14.txt",
          "2019-06-22.txt",
          "2019-06-28.txt",
          "2019-07-05.txt",
          "2019-07-13.txt",
          "2019-07-19.txt",
          "2019-07-26.txt",
          "2019-08-02.txt",
          "2019-08-10.txt",
          "2019-08-17.txt",
          "2019-08-24.txt",
          "2019-08-31.txt",
          "2019-09-07.txt",
          "2019-09-14.txt",
          "2019-09-21.txt",
          "2019-09-28.txt",
          "2019-10-05.txt",
          "2019-10-12.txt",
          "2019-10-19.txt",
          "2019-10-26.txt",
          "2019-11-02.txt",
          "2019-11-09.txt",
          "2019-11-16.txt",
          "2019-11-23.txt",
          "2019-11-30.txt",
          "2019-12-07.txt",
          "2019-12-14.txt",
          "2019-12-21.txt",
          "2019-12-28.txt",
          "2020-01-04.txt",
          "2020-01-11.txt",
          "2020-01-18.txt",
          "2020-01-25.txt",
          "2020-02-01.txt",
          "2020-02-08.txt",
          "2020-02-15.txt",
          "2020-02-22.txt",
          "2020-02-29.txt",
          "2020-03-07.txt",
          "2020-03-14.txt",
          "2020-03-21.txt",
          "2020-03-28.txt",
          "2020-04-04.txt",
          "2020-04-11.txt",
          "2020-04-18.txt",
          "2020-04-25.txt",
          "2020-05-02.txt"
         ],
         "xaxis": "x",
         "y": [
          0,
          0,
          0,
          0,
          0,
          0,
          38,
          40,
          42,
          41,
          43,
          43,
          43,
          44,
          44,
          45,
          44,
          44,
          44,
          44,
          44,
          44,
          44,
          44,
          44,
          44,
          44,
          44,
          44,
          44,
          44,
          44,
          44,
          44,
          44,
          44,
          44,
          44,
          44,
          44,
          44,
          44,
          44,
          44,
          44,
          44,
          44,
          44,
          44,
          44,
          44,
          45
         ],
         "yaxis": "y"
        },
        {
         "hoverlabel": {
          "namelength": 0
         },
         "hovertemplate": "index=/data/reddylab/bmajoros<br>variable=%{x}<br>value=%{y}",
         "legendgroup": "/data/reddylab/bmajoros",
         "marker": {
          "color": "#ab63fa",
          "symbol": "circle"
         },
         "mode": "markers+lines",
         "name": "/data/reddylab/bmajoros",
         "showlegend": true,
         "type": "scattergl",
         "x": [
          "2019-05-11.txt",
          "2019-05-18.txt",
          "2019-05-25.txt",
          "2019-05-31.txt",
          "2019-06-08.txt",
          "2019-06-14.txt",
          "2019-06-22.txt",
          "2019-06-28.txt",
          "2019-07-05.txt",
          "2019-07-13.txt",
          "2019-07-19.txt",
          "2019-07-26.txt",
          "2019-08-02.txt",
          "2019-08-10.txt",
          "2019-08-17.txt",
          "2019-08-24.txt",
          "2019-08-31.txt",
          "2019-09-07.txt",
          "2019-09-14.txt",
          "2019-09-21.txt",
          "2019-09-28.txt",
          "2019-10-05.txt",
          "2019-10-12.txt",
          "2019-10-19.txt",
          "2019-10-26.txt",
          "2019-11-02.txt",
          "2019-11-09.txt",
          "2019-11-16.txt",
          "2019-11-23.txt",
          "2019-11-30.txt",
          "2019-12-07.txt",
          "2019-12-14.txt",
          "2019-12-21.txt",
          "2019-12-28.txt",
          "2020-01-04.txt",
          "2020-01-11.txt",
          "2020-01-18.txt",
          "2020-01-25.txt",
          "2020-02-01.txt",
          "2020-02-08.txt",
          "2020-02-15.txt",
          "2020-02-22.txt",
          "2020-02-29.txt",
          "2020-03-07.txt",
          "2020-03-14.txt",
          "2020-03-21.txt",
          "2020-03-28.txt",
          "2020-04-04.txt",
          "2020-04-11.txt",
          "2020-04-18.txt",
          "2020-04-25.txt",
          "2020-05-02.txt"
         ],
         "xaxis": "x",
         "y": [
          0,
          0,
          0,
          0,
          0,
          0,
          3,
          3,
          3,
          3.1,
          3.1,
          3.1,
          3.1,
          3.1,
          3.1,
          2.7,
          2.7,
          2.7,
          2.7,
          2.7,
          2.7,
          2.6,
          2.7,
          2.7,
          2.6,
          2.6,
          2.6,
          2.6,
          2.6,
          2.6,
          2.6,
          2.6,
          2.6,
          2.6,
          2.6,
          2.6,
          2.6,
          2.6,
          2.6,
          2.7,
          2.7,
          2.7,
          2.7,
          2.7,
          2.7,
          2.7,
          2.7,
          2.7,
          2.7,
          2.7,
          2.7,
          2.7
         ],
         "yaxis": "y"
        },
        {
         "hoverlabel": {
          "namelength": 0
         },
         "hovertemplate": "index=/data/reddylab/gjohnson<br>variable=%{x}<br>value=%{y}",
         "legendgroup": "/data/reddylab/gjohnson",
         "marker": {
          "color": "#FFA15A",
          "symbol": "circle"
         },
         "mode": "markers+lines",
         "name": "/data/reddylab/gjohnson",
         "showlegend": true,
         "type": "scattergl",
         "x": [
          "2019-05-11.txt",
          "2019-05-18.txt",
          "2019-05-25.txt",
          "2019-05-31.txt",
          "2019-06-08.txt",
          "2019-06-14.txt",
          "2019-06-22.txt",
          "2019-06-28.txt",
          "2019-07-05.txt",
          "2019-07-13.txt",
          "2019-07-19.txt",
          "2019-07-26.txt",
          "2019-08-02.txt",
          "2019-08-10.txt",
          "2019-08-17.txt",
          "2019-08-24.txt",
          "2019-08-31.txt",
          "2019-09-07.txt",
          "2019-09-14.txt",
          "2019-09-21.txt",
          "2019-09-28.txt",
          "2019-10-05.txt",
          "2019-10-12.txt",
          "2019-10-19.txt",
          "2019-10-26.txt",
          "2019-11-02.txt",
          "2019-11-09.txt",
          "2019-11-16.txt",
          "2019-11-23.txt",
          "2019-11-30.txt",
          "2019-12-07.txt",
          "2019-12-14.txt",
          "2019-12-21.txt",
          "2019-12-28.txt",
          "2020-01-04.txt",
          "2020-01-11.txt",
          "2020-01-18.txt",
          "2020-01-25.txt",
          "2020-02-01.txt",
          "2020-02-08.txt",
          "2020-02-15.txt",
          "2020-02-22.txt",
          "2020-02-29.txt",
          "2020-03-07.txt",
          "2020-03-14.txt",
          "2020-03-21.txt",
          "2020-03-28.txt",
          "2020-04-04.txt",
          "2020-04-11.txt",
          "2020-04-18.txt",
          "2020-04-25.txt",
          "2020-05-02.txt"
         ],
         "xaxis": "x",
         "y": [
          0,
          0,
          0,
          0,
          0,
          0,
          16,
          16,
          16,
          16,
          16,
          16,
          16,
          16,
          16,
          16,
          16,
          16,
          16,
          16,
          16,
          16,
          16,
          16,
          16,
          16,
          16,
          16,
          16,
          16,
          16,
          16,
          16,
          16,
          16,
          22,
          24,
          25,
          26,
          22,
          22,
          26,
          26,
          26,
          30,
          34,
          35,
          37,
          37,
          37,
          28,
          26
         ],
         "yaxis": "y"
        },
        {
         "hoverlabel": {
          "namelength": 0
         },
         "hovertemplate": "index=/data/reddylab/miseq_windows<br>variable=%{x}<br>value=%{y}",
         "legendgroup": "/data/reddylab/miseq_windows",
         "marker": {
          "color": "#19d3f3",
          "symbol": "circle"
         },
         "mode": "markers+lines",
         "name": "/data/reddylab/miseq_windows",
         "showlegend": true,
         "type": "scattergl",
         "x": [
          "2019-05-11.txt",
          "2019-05-18.txt",
          "2019-05-25.txt",
          "2019-05-31.txt",
          "2019-06-08.txt",
          "2019-06-14.txt",
          "2019-06-22.txt",
          "2019-06-28.txt",
          "2019-07-05.txt",
          "2019-07-13.txt",
          "2019-07-19.txt",
          "2019-07-26.txt",
          "2019-08-02.txt",
          "2019-08-10.txt",
          "2019-08-17.txt",
          "2019-08-24.txt",
          "2019-08-31.txt",
          "2019-09-07.txt",
          "2019-09-14.txt",
          "2019-09-21.txt",
          "2019-09-28.txt",
          "2019-10-05.txt",
          "2019-10-12.txt",
          "2019-10-19.txt",
          "2019-10-26.txt",
          "2019-11-02.txt",
          "2019-11-09.txt",
          "2019-11-16.txt",
          "2019-11-23.txt",
          "2019-11-30.txt",
          "2019-12-07.txt",
          "2019-12-14.txt",
          "2019-12-21.txt",
          "2019-12-28.txt",
          "2020-01-04.txt",
          "2020-01-11.txt",
          "2020-01-18.txt",
          "2020-01-25.txt",
          "2020-02-01.txt",
          "2020-02-08.txt",
          "2020-02-15.txt",
          "2020-02-22.txt",
          "2020-02-29.txt",
          "2020-03-07.txt",
          "2020-03-14.txt",
          "2020-03-21.txt",
          "2020-03-28.txt",
          "2020-04-04.txt",
          "2020-04-11.txt",
          "2020-04-18.txt",
          "2020-04-25.txt",
          "2020-05-02.txt"
         ],
         "xaxis": "x",
         "y": [
          0,
          0,
          0,
          0,
          0,
          0,
          0.896484375,
          0.896484375,
          0.896484375,
          0.896484375,
          0.896484375,
          0.896484375,
          0.896484375,
          0.896484375,
          0.896484375,
          0.896484375,
          0.896484375,
          0.896484375,
          0.896484375,
          0.896484375,
          0.896484375,
          0.896484375,
          0.896484375,
          1.2,
          1.2,
          1.2,
          1.2,
          1.2,
          1.2,
          1.2,
          1.2,
          1.2,
          1.2,
          1.2,
          1.2,
          1.2,
          1.2,
          1.2,
          1.2,
          1.2,
          1.2,
          1.2,
          1.2,
          1.2,
          1.4,
          1.4,
          1.4,
          1.4,
          1.4,
          1.4,
          1.4,
          1.4
         ],
         "yaxis": "y"
        },
        {
         "hoverlabel": {
          "namelength": 0
         },
         "hovertemplate": "index=/data/reddylab/projects<br>variable=%{x}<br>value=%{y}",
         "legendgroup": "/data/reddylab/projects",
         "marker": {
          "color": "#FF6692",
          "symbol": "circle"
         },
         "mode": "markers+lines",
         "name": "/data/reddylab/projects",
         "showlegend": true,
         "type": "scattergl",
         "x": [
          "2019-05-11.txt",
          "2019-05-18.txt",
          "2019-05-25.txt",
          "2019-05-31.txt",
          "2019-06-08.txt",
          "2019-06-14.txt",
          "2019-06-22.txt",
          "2019-06-28.txt",
          "2019-07-05.txt",
          "2019-07-13.txt",
          "2019-07-19.txt",
          "2019-07-26.txt",
          "2019-08-02.txt",
          "2019-08-10.txt",
          "2019-08-17.txt",
          "2019-08-24.txt",
          "2019-08-31.txt",
          "2019-09-07.txt",
          "2019-09-14.txt",
          "2019-09-21.txt",
          "2019-09-28.txt",
          "2019-10-05.txt",
          "2019-10-12.txt",
          "2019-10-19.txt",
          "2019-10-26.txt",
          "2019-11-02.txt",
          "2019-11-09.txt",
          "2019-11-16.txt",
          "2019-11-23.txt",
          "2019-11-30.txt",
          "2019-12-07.txt",
          "2019-12-14.txt",
          "2019-12-21.txt",
          "2019-12-28.txt",
          "2020-01-04.txt",
          "2020-01-11.txt",
          "2020-01-18.txt",
          "2020-01-25.txt",
          "2020-02-01.txt",
          "2020-02-08.txt",
          "2020-02-15.txt",
          "2020-02-22.txt",
          "2020-02-29.txt",
          "2020-03-07.txt",
          "2020-03-14.txt",
          "2020-03-21.txt",
          "2020-03-28.txt",
          "2020-04-04.txt",
          "2020-04-11.txt",
          "2020-04-18.txt",
          "2020-04-25.txt",
          "2020-05-02.txt"
         ],
         "xaxis": "x",
         "y": [
          61,
          61,
          61,
          61,
          61,
          61,
          60,
          60,
          60,
          60,
          60,
          60,
          60,
          60,
          61,
          61,
          61,
          61,
          61,
          61,
          61,
          61,
          61,
          61,
          61,
          58,
          58,
          58,
          58,
          58,
          58,
          58,
          58,
          58,
          58,
          56,
          56,
          56,
          56,
          56,
          56,
          56,
          56,
          56,
          56,
          55,
          55,
          55,
          55,
          55,
          55,
          55
         ],
         "yaxis": "y"
        },
        {
         "hoverlabel": {
          "namelength": 0
         },
         "hovertemplate": "index=/data/reddylab/scarlett<br>variable=%{x}<br>value=%{y}",
         "legendgroup": "/data/reddylab/scarlett",
         "marker": {
          "color": "#B6E880",
          "symbol": "circle"
         },
         "mode": "markers+lines",
         "name": "/data/reddylab/scarlett",
         "showlegend": true,
         "type": "scattergl",
         "x": [
          "2019-05-11.txt",
          "2019-05-18.txt",
          "2019-05-25.txt",
          "2019-05-31.txt",
          "2019-06-08.txt",
          "2019-06-14.txt",
          "2019-06-22.txt",
          "2019-06-28.txt",
          "2019-07-05.txt",
          "2019-07-13.txt",
          "2019-07-19.txt",
          "2019-07-26.txt",
          "2019-08-02.txt",
          "2019-08-10.txt",
          "2019-08-17.txt",
          "2019-08-24.txt",
          "2019-08-31.txt",
          "2019-09-07.txt",
          "2019-09-14.txt",
          "2019-09-21.txt",
          "2019-09-28.txt",
          "2019-10-05.txt",
          "2019-10-12.txt",
          "2019-10-19.txt",
          "2019-10-26.txt",
          "2019-11-02.txt",
          "2019-11-09.txt",
          "2019-11-16.txt",
          "2019-11-23.txt",
          "2019-11-30.txt",
          "2019-12-07.txt",
          "2019-12-14.txt",
          "2019-12-21.txt",
          "2019-12-28.txt",
          "2020-01-04.txt",
          "2020-01-11.txt",
          "2020-01-18.txt",
          "2020-01-25.txt",
          "2020-02-01.txt",
          "2020-02-08.txt",
          "2020-02-15.txt",
          "2020-02-22.txt",
          "2020-02-29.txt",
          "2020-03-07.txt",
          "2020-03-14.txt",
          "2020-03-21.txt",
          "2020-03-28.txt",
          "2020-04-04.txt",
          "2020-04-11.txt",
          "2020-04-18.txt",
          "2020-04-25.txt",
          "2020-05-02.txt"
         ],
         "xaxis": "x",
         "y": [
          0,
          0,
          0,
          0,
          0,
          0,
          1.1,
          1.1,
          3.1,
          4.8,
          4.7,
          4.8,
          5,
          5.1,
          5.2,
          5.2,
          3.7,
          3.8,
          3.8,
          3.8,
          3.8,
          3.8,
          3.9,
          3.9,
          3.9,
          4,
          4.1,
          4,
          4,
          4,
          5.2,
          5.2,
          5.3,
          6,
          12,
          12,
          12,
          12,
          11,
          11,
          12,
          11,
          11,
          12,
          12,
          13,
          13,
          14,
          16,
          21,
          19,
          6
         ],
         "yaxis": "y"
        },
        {
         "hoverlabel": {
          "namelength": 0
         },
         "hovertemplate": "index=/data/reddylab/scunningham<br>variable=%{x}<br>value=%{y}",
         "legendgroup": "/data/reddylab/scunningham",
         "marker": {
          "color": "#FF97FF",
          "symbol": "circle"
         },
         "mode": "markers+lines",
         "name": "/data/reddylab/scunningham",
         "showlegend": true,
         "type": "scattergl",
         "x": [
          "2019-05-11.txt",
          "2019-05-18.txt",
          "2019-05-25.txt",
          "2019-05-31.txt",
          "2019-06-08.txt",
          "2019-06-14.txt",
          "2019-06-22.txt",
          "2019-06-28.txt",
          "2019-07-05.txt",
          "2019-07-13.txt",
          "2019-07-19.txt",
          "2019-07-26.txt",
          "2019-08-02.txt",
          "2019-08-10.txt",
          "2019-08-17.txt",
          "2019-08-24.txt",
          "2019-08-31.txt",
          "2019-09-07.txt",
          "2019-09-14.txt",
          "2019-09-21.txt",
          "2019-09-28.txt",
          "2019-10-05.txt",
          "2019-10-12.txt",
          "2019-10-19.txt",
          "2019-10-26.txt",
          "2019-11-02.txt",
          "2019-11-09.txt",
          "2019-11-16.txt",
          "2019-11-23.txt",
          "2019-11-30.txt",
          "2019-12-07.txt",
          "2019-12-14.txt",
          "2019-12-21.txt",
          "2019-12-28.txt",
          "2020-01-04.txt",
          "2020-01-11.txt",
          "2020-01-18.txt",
          "2020-01-25.txt",
          "2020-02-01.txt",
          "2020-02-08.txt",
          "2020-02-15.txt",
          "2020-02-22.txt",
          "2020-02-29.txt",
          "2020-03-07.txt",
          "2020-03-14.txt",
          "2020-03-21.txt",
          "2020-03-28.txt",
          "2020-04-04.txt",
          "2020-04-11.txt",
          "2020-04-18.txt",
          "2020-04-25.txt",
          "2020-05-02.txt"
         ],
         "xaxis": "x",
         "y": [
          0,
          0,
          0,
          0,
          0,
          0,
          0.666015625,
          0.6767578125,
          0.6767578125,
          0.6767578125,
          0.6767578125,
          0.6767578125,
          0.6767578125,
          0.6767578125,
          0.6767578125,
          0.6767578125,
          0.6767578125,
          0.6767578125,
          0.6767578125,
          0.677734375,
          0.677734375,
          0.677734375,
          0.677734375,
          0.677734375,
          0.677734375,
          0.677734375,
          0.677734375,
          0.677734375,
          0.677734375,
          0.677734375,
          0.677734375,
          0.677734375,
          0.677734375,
          0.677734375,
          0.677734375,
          0.677734375,
          0.677734375,
          0.677734375,
          0.677734375,
          0.677734375,
          0.677734375,
          0.677734375,
          0.677734375,
          0.677734375,
          0.677734375,
          0.677734375,
          0.677734375,
          0.677734375,
          0.6962890625,
          0.6962890625,
          0.6962890625,
          0.6962890625
         ],
         "yaxis": "y"
        },
        {
         "hoverlabel": {
          "namelength": 0
         },
         "hovertemplate": "index=/data/reddylab/software<br>variable=%{x}<br>value=%{y}",
         "legendgroup": "/data/reddylab/software",
         "marker": {
          "color": "#FECB52",
          "symbol": "circle"
         },
         "mode": "markers+lines",
         "name": "/data/reddylab/software",
         "showlegend": true,
         "type": "scattergl",
         "x": [
          "2019-05-11.txt",
          "2019-05-18.txt",
          "2019-05-25.txt",
          "2019-05-31.txt",
          "2019-06-08.txt",
          "2019-06-14.txt",
          "2019-06-22.txt",
          "2019-06-28.txt",
          "2019-07-05.txt",
          "2019-07-13.txt",
          "2019-07-19.txt",
          "2019-07-26.txt",
          "2019-08-02.txt",
          "2019-08-10.txt",
          "2019-08-17.txt",
          "2019-08-24.txt",
          "2019-08-31.txt",
          "2019-09-07.txt",
          "2019-09-14.txt",
          "2019-09-21.txt",
          "2019-09-28.txt",
          "2019-10-05.txt",
          "2019-10-12.txt",
          "2019-10-19.txt",
          "2019-10-26.txt",
          "2019-11-02.txt",
          "2019-11-09.txt",
          "2019-11-16.txt",
          "2019-11-23.txt",
          "2019-11-30.txt",
          "2019-12-07.txt",
          "2019-12-14.txt",
          "2019-12-21.txt",
          "2019-12-28.txt",
          "2020-01-04.txt",
          "2020-01-11.txt",
          "2020-01-18.txt",
          "2020-01-25.txt",
          "2020-02-01.txt",
          "2020-02-08.txt",
          "2020-02-15.txt",
          "2020-02-22.txt",
          "2020-02-29.txt",
          "2020-03-07.txt",
          "2020-03-14.txt",
          "2020-03-21.txt",
          "2020-03-28.txt",
          "2020-04-04.txt",
          "2020-04-11.txt",
          "2020-04-18.txt",
          "2020-04-25.txt",
          "2020-05-02.txt"
         ],
         "xaxis": "x",
         "y": [
          0,
          0,
          0,
          0,
          0,
          0,
          0.55078125,
          0.55078125,
          0.5595703125,
          0.564453125,
          0.56640625,
          0.5693359375,
          0.5693359375,
          0.5693359375,
          0.5732421875,
          0.5810546875,
          0.5810546875,
          0.6376953125,
          0.6494140625,
          0.6494140625,
          0.6494140625,
          0.65234375,
          0.65234375,
          0.6533203125,
          0.654296875,
          0.654296875,
          0.654296875,
          0.6533203125,
          0.6533203125,
          0.6533203125,
          0.6533203125,
          0.654296875,
          0.654296875,
          0.654296875,
          0.6552734375,
          0.6552734375,
          0.6552734375,
          0.6572265625,
          0.6650390625,
          0.666015625,
          0.666015625,
          0.6669921875,
          0.6669921875,
          0.6669921875,
          0.6669921875,
          0.6669921875,
          0.6669921875,
          0.6669921875,
          0.6669921875,
          0.6669921875,
          0.66796875,
          0.673828125
         ],
         "yaxis": "y"
        }
       ],
       "layout": {
        "legend": {
         "title": {
          "text": "index"
         },
         "tracegroupgap": 0
        },
        "template": {
         "data": {
          "bar": [
           {
            "error_x": {
             "color": "#2a3f5f"
            },
            "error_y": {
             "color": "#2a3f5f"
            },
            "marker": {
             "line": {
              "color": "#E5ECF6",
              "width": 0.5
             }
            },
            "type": "bar"
           }
          ],
          "barpolar": [
           {
            "marker": {
             "line": {
              "color": "#E5ECF6",
              "width": 0.5
             }
            },
            "type": "barpolar"
           }
          ],
          "carpet": [
           {
            "aaxis": {
             "endlinecolor": "#2a3f5f",
             "gridcolor": "white",
             "linecolor": "white",
             "minorgridcolor": "white",
             "startlinecolor": "#2a3f5f"
            },
            "baxis": {
             "endlinecolor": "#2a3f5f",
             "gridcolor": "white",
             "linecolor": "white",
             "minorgridcolor": "white",
             "startlinecolor": "#2a3f5f"
            },
            "type": "carpet"
           }
          ],
          "choropleth": [
           {
            "colorbar": {
             "outlinewidth": 0,
             "ticks": ""
            },
            "type": "choropleth"
           }
          ],
          "contour": [
           {
            "colorbar": {
             "outlinewidth": 0,
             "ticks": ""
            },
            "colorscale": [
             [
              0,
              "#0d0887"
             ],
             [
              0.1111111111111111,
              "#46039f"
             ],
             [
              0.2222222222222222,
              "#7201a8"
             ],
             [
              0.3333333333333333,
              "#9c179e"
             ],
             [
              0.4444444444444444,
              "#bd3786"
             ],
             [
              0.5555555555555556,
              "#d8576b"
             ],
             [
              0.6666666666666666,
              "#ed7953"
             ],
             [
              0.7777777777777778,
              "#fb9f3a"
             ],
             [
              0.8888888888888888,
              "#fdca26"
             ],
             [
              1,
              "#f0f921"
             ]
            ],
            "type": "contour"
           }
          ],
          "contourcarpet": [
           {
            "colorbar": {
             "outlinewidth": 0,
             "ticks": ""
            },
            "type": "contourcarpet"
           }
          ],
          "heatmap": [
           {
            "colorbar": {
             "outlinewidth": 0,
             "ticks": ""
            },
            "colorscale": [
             [
              0,
              "#0d0887"
             ],
             [
              0.1111111111111111,
              "#46039f"
             ],
             [
              0.2222222222222222,
              "#7201a8"
             ],
             [
              0.3333333333333333,
              "#9c179e"
             ],
             [
              0.4444444444444444,
              "#bd3786"
             ],
             [
              0.5555555555555556,
              "#d8576b"
             ],
             [
              0.6666666666666666,
              "#ed7953"
             ],
             [
              0.7777777777777778,
              "#fb9f3a"
             ],
             [
              0.8888888888888888,
              "#fdca26"
             ],
             [
              1,
              "#f0f921"
             ]
            ],
            "type": "heatmap"
           }
          ],
          "heatmapgl": [
           {
            "colorbar": {
             "outlinewidth": 0,
             "ticks": ""
            },
            "colorscale": [
             [
              0,
              "#0d0887"
             ],
             [
              0.1111111111111111,
              "#46039f"
             ],
             [
              0.2222222222222222,
              "#7201a8"
             ],
             [
              0.3333333333333333,
              "#9c179e"
             ],
             [
              0.4444444444444444,
              "#bd3786"
             ],
             [
              0.5555555555555556,
              "#d8576b"
             ],
             [
              0.6666666666666666,
              "#ed7953"
             ],
             [
              0.7777777777777778,
              "#fb9f3a"
             ],
             [
              0.8888888888888888,
              "#fdca26"
             ],
             [
              1,
              "#f0f921"
             ]
            ],
            "type": "heatmapgl"
           }
          ],
          "histogram": [
           {
            "marker": {
             "colorbar": {
              "outlinewidth": 0,
              "ticks": ""
             }
            },
            "type": "histogram"
           }
          ],
          "histogram2d": [
           {
            "colorbar": {
             "outlinewidth": 0,
             "ticks": ""
            },
            "colorscale": [
             [
              0,
              "#0d0887"
             ],
             [
              0.1111111111111111,
              "#46039f"
             ],
             [
              0.2222222222222222,
              "#7201a8"
             ],
             [
              0.3333333333333333,
              "#9c179e"
             ],
             [
              0.4444444444444444,
              "#bd3786"
             ],
             [
              0.5555555555555556,
              "#d8576b"
             ],
             [
              0.6666666666666666,
              "#ed7953"
             ],
             [
              0.7777777777777778,
              "#fb9f3a"
             ],
             [
              0.8888888888888888,
              "#fdca26"
             ],
             [
              1,
              "#f0f921"
             ]
            ],
            "type": "histogram2d"
           }
          ],
          "histogram2dcontour": [
           {
            "colorbar": {
             "outlinewidth": 0,
             "ticks": ""
            },
            "colorscale": [
             [
              0,
              "#0d0887"
             ],
             [
              0.1111111111111111,
              "#46039f"
             ],
             [
              0.2222222222222222,
              "#7201a8"
             ],
             [
              0.3333333333333333,
              "#9c179e"
             ],
             [
              0.4444444444444444,
              "#bd3786"
             ],
             [
              0.5555555555555556,
              "#d8576b"
             ],
             [
              0.6666666666666666,
              "#ed7953"
             ],
             [
              0.7777777777777778,
              "#fb9f3a"
             ],
             [
              0.8888888888888888,
              "#fdca26"
             ],
             [
              1,
              "#f0f921"
             ]
            ],
            "type": "histogram2dcontour"
           }
          ],
          "mesh3d": [
           {
            "colorbar": {
             "outlinewidth": 0,
             "ticks": ""
            },
            "type": "mesh3d"
           }
          ],
          "parcoords": [
           {
            "line": {
             "colorbar": {
              "outlinewidth": 0,
              "ticks": ""
             }
            },
            "type": "parcoords"
           }
          ],
          "pie": [
           {
            "automargin": true,
            "type": "pie"
           }
          ],
          "scatter": [
           {
            "marker": {
             "colorbar": {
              "outlinewidth": 0,
              "ticks": ""
             }
            },
            "type": "scatter"
           }
          ],
          "scatter3d": [
           {
            "line": {
             "colorbar": {
              "outlinewidth": 0,
              "ticks": ""
             }
            },
            "marker": {
             "colorbar": {
              "outlinewidth": 0,
              "ticks": ""
             }
            },
            "type": "scatter3d"
           }
          ],
          "scattercarpet": [
           {
            "marker": {
             "colorbar": {
              "outlinewidth": 0,
              "ticks": ""
             }
            },
            "type": "scattercarpet"
           }
          ],
          "scattergeo": [
           {
            "marker": {
             "colorbar": {
              "outlinewidth": 0,
              "ticks": ""
             }
            },
            "type": "scattergeo"
           }
          ],
          "scattergl": [
           {
            "marker": {
             "colorbar": {
              "outlinewidth": 0,
              "ticks": ""
             }
            },
            "type": "scattergl"
           }
          ],
          "scattermapbox": [
           {
            "marker": {
             "colorbar": {
              "outlinewidth": 0,
              "ticks": ""
             }
            },
            "type": "scattermapbox"
           }
          ],
          "scatterpolar": [
           {
            "marker": {
             "colorbar": {
              "outlinewidth": 0,
              "ticks": ""
             }
            },
            "type": "scatterpolar"
           }
          ],
          "scatterpolargl": [
           {
            "marker": {
             "colorbar": {
              "outlinewidth": 0,
              "ticks": ""
             }
            },
            "type": "scatterpolargl"
           }
          ],
          "scatterternary": [
           {
            "marker": {
             "colorbar": {
              "outlinewidth": 0,
              "ticks": ""
             }
            },
            "type": "scatterternary"
           }
          ],
          "surface": [
           {
            "colorbar": {
             "outlinewidth": 0,
             "ticks": ""
            },
            "colorscale": [
             [
              0,
              "#0d0887"
             ],
             [
              0.1111111111111111,
              "#46039f"
             ],
             [
              0.2222222222222222,
              "#7201a8"
             ],
             [
              0.3333333333333333,
              "#9c179e"
             ],
             [
              0.4444444444444444,
              "#bd3786"
             ],
             [
              0.5555555555555556,
              "#d8576b"
             ],
             [
              0.6666666666666666,
              "#ed7953"
             ],
             [
              0.7777777777777778,
              "#fb9f3a"
             ],
             [
              0.8888888888888888,
              "#fdca26"
             ],
             [
              1,
              "#f0f921"
             ]
            ],
            "type": "surface"
           }
          ],
          "table": [
           {
            "cells": {
             "fill": {
              "color": "#EBF0F8"
             },
             "line": {
              "color": "white"
             }
            },
            "header": {
             "fill": {
              "color": "#C8D4E3"
             },
             "line": {
              "color": "white"
             }
            },
            "type": "table"
           }
          ]
         },
         "layout": {
          "annotationdefaults": {
           "arrowcolor": "#2a3f5f",
           "arrowhead": 0,
           "arrowwidth": 1
          },
          "coloraxis": {
           "colorbar": {
            "outlinewidth": 0,
            "ticks": ""
           }
          },
          "colorscale": {
           "diverging": [
            [
             0,
             "#8e0152"
            ],
            [
             0.1,
             "#c51b7d"
            ],
            [
             0.2,
             "#de77ae"
            ],
            [
             0.3,
             "#f1b6da"
            ],
            [
             0.4,
             "#fde0ef"
            ],
            [
             0.5,
             "#f7f7f7"
            ],
            [
             0.6,
             "#e6f5d0"
            ],
            [
             0.7,
             "#b8e186"
            ],
            [
             0.8,
             "#7fbc41"
            ],
            [
             0.9,
             "#4d9221"
            ],
            [
             1,
             "#276419"
            ]
           ],
           "sequential": [
            [
             0,
             "#0d0887"
            ],
            [
             0.1111111111111111,
             "#46039f"
            ],
            [
             0.2222222222222222,
             "#7201a8"
            ],
            [
             0.3333333333333333,
             "#9c179e"
            ],
            [
             0.4444444444444444,
             "#bd3786"
            ],
            [
             0.5555555555555556,
             "#d8576b"
            ],
            [
             0.6666666666666666,
             "#ed7953"
            ],
            [
             0.7777777777777778,
             "#fb9f3a"
            ],
            [
             0.8888888888888888,
             "#fdca26"
            ],
            [
             1,
             "#f0f921"
            ]
           ],
           "sequentialminus": [
            [
             0,
             "#0d0887"
            ],
            [
             0.1111111111111111,
             "#46039f"
            ],
            [
             0.2222222222222222,
             "#7201a8"
            ],
            [
             0.3333333333333333,
             "#9c179e"
            ],
            [
             0.4444444444444444,
             "#bd3786"
            ],
            [
             0.5555555555555556,
             "#d8576b"
            ],
            [
             0.6666666666666666,
             "#ed7953"
            ],
            [
             0.7777777777777778,
             "#fb9f3a"
            ],
            [
             0.8888888888888888,
             "#fdca26"
            ],
            [
             1,
             "#f0f921"
            ]
           ]
          },
          "colorway": [
           "#636efa",
           "#EF553B",
           "#00cc96",
           "#ab63fa",
           "#FFA15A",
           "#19d3f3",
           "#FF6692",
           "#B6E880",
           "#FF97FF",
           "#FECB52"
          ],
          "font": {
           "color": "#2a3f5f"
          },
          "geo": {
           "bgcolor": "white",
           "lakecolor": "white",
           "landcolor": "#E5ECF6",
           "showlakes": true,
           "showland": true,
           "subunitcolor": "white"
          },
          "hoverlabel": {
           "align": "left"
          },
          "hovermode": "closest",
          "mapbox": {
           "style": "light"
          },
          "paper_bgcolor": "white",
          "plot_bgcolor": "#E5ECF6",
          "polar": {
           "angularaxis": {
            "gridcolor": "white",
            "linecolor": "white",
            "ticks": ""
           },
           "bgcolor": "#E5ECF6",
           "radialaxis": {
            "gridcolor": "white",
            "linecolor": "white",
            "ticks": ""
           }
          },
          "scene": {
           "xaxis": {
            "backgroundcolor": "#E5ECF6",
            "gridcolor": "white",
            "gridwidth": 2,
            "linecolor": "white",
            "showbackground": true,
            "ticks": "",
            "zerolinecolor": "white"
           },
           "yaxis": {
            "backgroundcolor": "#E5ECF6",
            "gridcolor": "white",
            "gridwidth": 2,
            "linecolor": "white",
            "showbackground": true,
            "ticks": "",
            "zerolinecolor": "white"
           },
           "zaxis": {
            "backgroundcolor": "#E5ECF6",
            "gridcolor": "white",
            "gridwidth": 2,
            "linecolor": "white",
            "showbackground": true,
            "ticks": "",
            "zerolinecolor": "white"
           }
          },
          "shapedefaults": {
           "line": {
            "color": "#2a3f5f"
           }
          },
          "ternary": {
           "aaxis": {
            "gridcolor": "white",
            "linecolor": "white",
            "ticks": ""
           },
           "baxis": {
            "gridcolor": "white",
            "linecolor": "white",
            "ticks": ""
           },
           "bgcolor": "#E5ECF6",
           "caxis": {
            "gridcolor": "white",
            "linecolor": "white",
            "ticks": ""
           }
          },
          "title": {
           "x": 0.05
          },
          "xaxis": {
           "automargin": true,
           "gridcolor": "white",
           "linecolor": "white",
           "ticks": "",
           "title": {
            "standoff": 15
           },
           "zerolinecolor": "white",
           "zerolinewidth": 2
          },
          "yaxis": {
           "automargin": true,
           "gridcolor": "white",
           "linecolor": "white",
           "ticks": "",
           "title": {
            "standoff": 15
           },
           "zerolinecolor": "white",
           "zerolinewidth": 2
          }
         }
        },
        "title": {
         "text": "Reddylab disk usage (past 12 months)"
        },
        "xaxis": {
         "anchor": "y",
         "domain": [
          0,
          1
         ],
         "title": {
          "text": ""
         }
        },
        "yaxis": {
         "anchor": "x",
         "domain": [
          0,
          1
         ],
         "title": {
          "text": "TB"
         }
        }
       }
      },
      "text/html": [
       "<div>\n",
       "        \n",
       "        \n",
       "            <div id=\"6d4e8d76-41a9-4a66-b08b-8f1601fa748d\" class=\"plotly-graph-div\" style=\"height:525px; width:100%;\"></div>\n",
       "            <script type=\"text/javascript\">\n",
       "                require([\"plotly\"], function(Plotly) {\n",
       "                    window.PLOTLYENV=window.PLOTLYENV || {};\n",
       "                    \n",
       "                if (document.getElementById(\"6d4e8d76-41a9-4a66-b08b-8f1601fa748d\")) {\n",
       "                    Plotly.newPlot(\n",
       "                        '6d4e8d76-41a9-4a66-b08b-8f1601fa748d',\n",
       "                        [{\"hoverlabel\": {\"namelength\": 0}, \"hovertemplate\": \"index=/data/reddylab/Alex<br>variable=%{x}<br>value=%{y}\", \"legendgroup\": \"/data/reddylab/Alex\", \"marker\": {\"color\": \"#636efa\", \"symbol\": \"circle\"}, \"mode\": \"markers+lines\", \"name\": \"/data/reddylab/Alex\", \"showlegend\": true, \"type\": \"scattergl\", \"x\": [\"2019-05-11.txt\", \"2019-05-18.txt\", \"2019-05-25.txt\", \"2019-05-31.txt\", \"2019-06-08.txt\", \"2019-06-14.txt\", \"2019-06-22.txt\", \"2019-06-28.txt\", \"2019-07-05.txt\", \"2019-07-13.txt\", \"2019-07-19.txt\", \"2019-07-26.txt\", \"2019-08-02.txt\", \"2019-08-10.txt\", \"2019-08-17.txt\", \"2019-08-24.txt\", \"2019-08-31.txt\", \"2019-09-07.txt\", \"2019-09-14.txt\", \"2019-09-21.txt\", \"2019-09-28.txt\", \"2019-10-05.txt\", \"2019-10-12.txt\", \"2019-10-19.txt\", \"2019-10-26.txt\", \"2019-11-02.txt\", \"2019-11-09.txt\", \"2019-11-16.txt\", \"2019-11-23.txt\", \"2019-11-30.txt\", \"2019-12-07.txt\", \"2019-12-14.txt\", \"2019-12-21.txt\", \"2019-12-28.txt\", \"2020-01-04.txt\", \"2020-01-11.txt\", \"2020-01-18.txt\", \"2020-01-25.txt\", \"2020-02-01.txt\", \"2020-02-08.txt\", \"2020-02-15.txt\", \"2020-02-22.txt\", \"2020-02-29.txt\", \"2020-03-07.txt\", \"2020-03-14.txt\", \"2020-03-21.txt\", \"2020-03-28.txt\", \"2020-04-04.txt\", \"2020-04-11.txt\", \"2020-04-18.txt\", \"2020-04-25.txt\", \"2020-05-02.txt\"], \"xaxis\": \"x\", \"y\": [0.0, 0.0, 0.0, 0.0, 0.0, 0.0, 22.0, 24.0, 24.0, 24.0, 24.0, 24.0, 24.0, 24.0, 24.0, 24.0, 24.0, 24.0, 24.0, 24.0, 24.0, 24.0, 25.0, 25.0, 25.0, 25.0, 25.0, 26.0, 26.0, 26.0, 26.0, 26.0, 26.0, 26.0, 26.0, 26.0, 29.0, 28.0, 29.0, 29.0, 29.0, 28.0, 28.0, 28.0, 27.0, 26.0, 26.0, 26.0, 26.0, 26.0, 26.0, 26.0], \"yaxis\": \"y\"}, {\"hoverlabel\": {\"namelength\": 0}, \"hovertemplate\": \"index=/data/reddylab/Analyses<br>variable=%{x}<br>value=%{y}\", \"legendgroup\": \"/data/reddylab/Analyses\", \"marker\": {\"color\": \"#EF553B\", \"symbol\": \"circle\"}, \"mode\": \"markers+lines\", \"name\": \"/data/reddylab/Analyses\", \"showlegend\": true, \"type\": \"scattergl\", \"x\": [\"2019-05-11.txt\", \"2019-05-18.txt\", \"2019-05-25.txt\", \"2019-05-31.txt\", \"2019-06-08.txt\", \"2019-06-14.txt\", \"2019-06-22.txt\", \"2019-06-28.txt\", \"2019-07-05.txt\", \"2019-07-13.txt\", \"2019-07-19.txt\", \"2019-07-26.txt\", \"2019-08-02.txt\", \"2019-08-10.txt\", \"2019-08-17.txt\", \"2019-08-24.txt\", \"2019-08-31.txt\", \"2019-09-07.txt\", \"2019-09-14.txt\", \"2019-09-21.txt\", \"2019-09-28.txt\", \"2019-10-05.txt\", \"2019-10-12.txt\", \"2019-10-19.txt\", \"2019-10-26.txt\", \"2019-11-02.txt\", \"2019-11-09.txt\", \"2019-11-16.txt\", \"2019-11-23.txt\", \"2019-11-30.txt\", \"2019-12-07.txt\", \"2019-12-14.txt\", \"2019-12-21.txt\", \"2019-12-28.txt\", \"2020-01-04.txt\", \"2020-01-11.txt\", \"2020-01-18.txt\", \"2020-01-25.txt\", \"2020-02-01.txt\", \"2020-02-08.txt\", \"2020-02-15.txt\", \"2020-02-22.txt\", \"2020-02-29.txt\", \"2020-03-07.txt\", \"2020-03-14.txt\", \"2020-03-21.txt\", \"2020-03-28.txt\", \"2020-04-04.txt\", \"2020-04-11.txt\", \"2020-04-18.txt\", \"2020-04-25.txt\", \"2020-05-02.txt\"], \"xaxis\": \"x\", \"y\": [0.0, 0.0, 0.0, 0.0, 0.0, 0.0, 0.69140625, 0.69140625, 0.69140625, 0.69140625, 0.69140625, 0.69140625, 0.69140625, 0.69140625, 0.69140625, 0.69140625, 0.69140625, 0.69140625, 0.69140625, 0.69140625, 0.69140625, 0.69140625, 0.69140625, 0.69140625, 0.69140625, 0.69140625, 0.69140625, 0.69140625, 0.69140625, 0.69140625, 0.69140625, 0.69140625, 0.69140625, 0.69140625, 0.69140625, 0.69140625, 0.69140625, 0.69140625, 0.69140625, 0.69140625, 0.69140625, 0.69140625, 0.69140625, 0.69140625, 0.69140625, 0.69140625, 0.69140625, 0.69140625, 0.69140625, 0.69140625, 0.69140625, 0.69140625], \"yaxis\": \"y\"}, {\"hoverlabel\": {\"namelength\": 0}, \"hovertemplate\": \"index=/data/reddylab/Chris<br>variable=%{x}<br>value=%{y}\", \"legendgroup\": \"/data/reddylab/Chris\", \"marker\": {\"color\": \"#00cc96\", \"symbol\": \"circle\"}, \"mode\": \"markers+lines\", \"name\": \"/data/reddylab/Chris\", \"showlegend\": true, \"type\": \"scattergl\", \"x\": [\"2019-05-11.txt\", \"2019-05-18.txt\", \"2019-05-25.txt\", \"2019-05-31.txt\", \"2019-06-08.txt\", \"2019-06-14.txt\", \"2019-06-22.txt\", \"2019-06-28.txt\", \"2019-07-05.txt\", \"2019-07-13.txt\", \"2019-07-19.txt\", \"2019-07-26.txt\", \"2019-08-02.txt\", \"2019-08-10.txt\", \"2019-08-17.txt\", \"2019-08-24.txt\", \"2019-08-31.txt\", \"2019-09-07.txt\", \"2019-09-14.txt\", \"2019-09-21.txt\", \"2019-09-28.txt\", \"2019-10-05.txt\", \"2019-10-12.txt\", \"2019-10-19.txt\", \"2019-10-26.txt\", \"2019-11-02.txt\", \"2019-11-09.txt\", \"2019-11-16.txt\", \"2019-11-23.txt\", \"2019-11-30.txt\", \"2019-12-07.txt\", \"2019-12-14.txt\", \"2019-12-21.txt\", \"2019-12-28.txt\", \"2020-01-04.txt\", \"2020-01-11.txt\", \"2020-01-18.txt\", \"2020-01-25.txt\", \"2020-02-01.txt\", \"2020-02-08.txt\", \"2020-02-15.txt\", \"2020-02-22.txt\", \"2020-02-29.txt\", \"2020-03-07.txt\", \"2020-03-14.txt\", \"2020-03-21.txt\", \"2020-03-28.txt\", \"2020-04-04.txt\", \"2020-04-11.txt\", \"2020-04-18.txt\", \"2020-04-25.txt\", \"2020-05-02.txt\"], \"xaxis\": \"x\", \"y\": [2.7, 2.7, 2.7, 2.7, 2.7, 2.7, 2.7, 2.7, 2.7, 2.7, 2.7, 2.7, 2.7, 2.7, 2.7, 2.7, 2.7, 2.7, 2.7, 2.7, 2.7, 2.7, 2.7, 2.7, 2.7, 2.7, 2.7, 2.7, 2.7, 2.7, 2.7, 2.7, 2.7, 2.7, 2.7, 2.7, 1.2, 1.2, 1.2, 1.2, 1.2, 1.2, 1.2, 1.2, 1.2, 1.2, 1.2, 1.2, 1.2, 1.2, 1.2, 1.2], \"yaxis\": \"y\"}, {\"hoverlabel\": {\"namelength\": 0}, \"hovertemplate\": \"index=/data/reddylab/Darryl<br>variable=%{x}<br>value=%{y}\", \"legendgroup\": \"/data/reddylab/Darryl\", \"marker\": {\"color\": \"#ab63fa\", \"symbol\": \"circle\"}, \"mode\": \"markers+lines\", \"name\": \"/data/reddylab/Darryl\", \"showlegend\": true, \"type\": \"scattergl\", \"x\": [\"2019-05-11.txt\", \"2019-05-18.txt\", \"2019-05-25.txt\", \"2019-05-31.txt\", \"2019-06-08.txt\", \"2019-06-14.txt\", \"2019-06-22.txt\", \"2019-06-28.txt\", \"2019-07-05.txt\", \"2019-07-13.txt\", \"2019-07-19.txt\", \"2019-07-26.txt\", \"2019-08-02.txt\", \"2019-08-10.txt\", \"2019-08-17.txt\", \"2019-08-24.txt\", \"2019-08-31.txt\", \"2019-09-07.txt\", \"2019-09-14.txt\", \"2019-09-21.txt\", \"2019-09-28.txt\", \"2019-10-05.txt\", \"2019-10-12.txt\", \"2019-10-19.txt\", \"2019-10-26.txt\", \"2019-11-02.txt\", \"2019-11-09.txt\", \"2019-11-16.txt\", \"2019-11-23.txt\", \"2019-11-30.txt\", \"2019-12-07.txt\", \"2019-12-14.txt\", \"2019-12-21.txt\", \"2019-12-28.txt\", \"2020-01-04.txt\", \"2020-01-11.txt\", \"2020-01-18.txt\", \"2020-01-25.txt\", \"2020-02-01.txt\", \"2020-02-08.txt\", \"2020-02-15.txt\", \"2020-02-22.txt\", \"2020-02-29.txt\", \"2020-03-07.txt\", \"2020-03-14.txt\", \"2020-03-21.txt\", \"2020-03-28.txt\", \"2020-04-04.txt\", \"2020-04-11.txt\", \"2020-04-18.txt\", \"2020-04-25.txt\", \"2020-05-02.txt\"], \"xaxis\": \"x\", \"y\": [0.0, 0.0, 0.0, 0.0, 0.0, 0.0, 0.85546875, 0.85546875, 0.85546875, 0.85546875, 0.85546875, 0.85546875, 0.85546875, 0.85546875, 0.85546875, 0.85546875, 0.85546875, 0.85546875, 0.85546875, 0.85546875, 0.85546875, 0.85546875, 0.85546875, 0.85546875, 0.85546875, 0.85546875, 0.85546875, 0.85546875, 0.85546875, 0.85546875, 0.85546875, 0.85546875, 0.85546875, 0.85546875, 0.85546875, 0.85546875, 0.85546875, 0.85546875, 0.85546875, 0.85546875, 0.85546875, 0.85546875, 0.85546875, 0.85546875, 0.85546875, 0.85546875, 0.85546875, 0.85546875, 0.85546875, 0.85546875, 0.85546875, 0.85546875], \"yaxis\": \"y\"}, {\"hoverlabel\": {\"namelength\": 0}, \"hovertemplate\": \"index=/data/reddylab/Dewran<br>variable=%{x}<br>value=%{y}\", \"legendgroup\": \"/data/reddylab/Dewran\", \"marker\": {\"color\": \"#FFA15A\", \"symbol\": \"circle\"}, \"mode\": \"markers+lines\", \"name\": \"/data/reddylab/Dewran\", \"showlegend\": true, \"type\": \"scattergl\", \"x\": [\"2019-05-11.txt\", \"2019-05-18.txt\", \"2019-05-25.txt\", \"2019-05-31.txt\", \"2019-06-08.txt\", \"2019-06-14.txt\", \"2019-06-22.txt\", \"2019-06-28.txt\", \"2019-07-05.txt\", \"2019-07-13.txt\", \"2019-07-19.txt\", \"2019-07-26.txt\", \"2019-08-02.txt\", \"2019-08-10.txt\", \"2019-08-17.txt\", \"2019-08-24.txt\", \"2019-08-31.txt\", \"2019-09-07.txt\", \"2019-09-14.txt\", \"2019-09-21.txt\", \"2019-09-28.txt\", \"2019-10-05.txt\", \"2019-10-12.txt\", \"2019-10-19.txt\", \"2019-10-26.txt\", \"2019-11-02.txt\", \"2019-11-09.txt\", \"2019-11-16.txt\", \"2019-11-23.txt\", \"2019-11-30.txt\", \"2019-12-07.txt\", \"2019-12-14.txt\", \"2019-12-21.txt\", \"2019-12-28.txt\", \"2020-01-04.txt\", \"2020-01-11.txt\", \"2020-01-18.txt\", \"2020-01-25.txt\", \"2020-02-01.txt\", \"2020-02-08.txt\", \"2020-02-15.txt\", \"2020-02-22.txt\", \"2020-02-29.txt\", \"2020-03-07.txt\", \"2020-03-14.txt\", \"2020-03-21.txt\", \"2020-03-28.txt\", \"2020-04-04.txt\", \"2020-04-11.txt\", \"2020-04-18.txt\", \"2020-04-25.txt\", \"2020-05-02.txt\"], \"xaxis\": \"x\", \"y\": [0.0, 0.0, 0.0, 0.0, 0.0, 0.0, 3.910064697265625e-05, 4.100799560546875e-05, 4.100799560546875e-05, 6.389617919921875e-05, 6.389617919921875e-05, 6.389617919921875e-05, 6.389617919921875e-05, 6.389617919921875e-05, 6.389617919921875e-05, 6.389617919921875e-05, 6.389617919921875e-05, 1.9, 1.9, 1.9, 1.9, 1.9, 1.9, 1.9, 1.9, 1.9, 1.9, 1.9, 1.9, 1.9, 1.9, 1.9, 1.9, 1.9, 1.9, 1.9, 1.9, 1.9, 1.9, 1.9, 1.9, 3.7, 3.7, 3.7, 3.7, 1.7, 1.7, 1.7, 1.7, 1.7, 1.7, 1.7], \"yaxis\": \"y\"}, {\"hoverlabel\": {\"namelength\": 0}, \"hovertemplate\": \"index=/data/reddylab/Flowcells<br>variable=%{x}<br>value=%{y}\", \"legendgroup\": \"/data/reddylab/Flowcells\", \"marker\": {\"color\": \"#19d3f3\", \"symbol\": \"circle\"}, \"mode\": \"markers+lines\", \"name\": \"/data/reddylab/Flowcells\", \"showlegend\": true, \"type\": \"scattergl\", \"x\": [\"2019-05-11.txt\", \"2019-05-18.txt\", \"2019-05-25.txt\", \"2019-05-31.txt\", \"2019-06-08.txt\", \"2019-06-14.txt\", \"2019-06-22.txt\", \"2019-06-28.txt\", \"2019-07-05.txt\", \"2019-07-13.txt\", \"2019-07-19.txt\", \"2019-07-26.txt\", \"2019-08-02.txt\", \"2019-08-10.txt\", \"2019-08-17.txt\", \"2019-08-24.txt\", \"2019-08-31.txt\", \"2019-09-07.txt\", \"2019-09-14.txt\", \"2019-09-21.txt\", \"2019-09-28.txt\", \"2019-10-05.txt\", \"2019-10-12.txt\", \"2019-10-19.txt\", \"2019-10-26.txt\", \"2019-11-02.txt\", \"2019-11-09.txt\", \"2019-11-16.txt\", \"2019-11-23.txt\", \"2019-11-30.txt\", \"2019-12-07.txt\", \"2019-12-14.txt\", \"2019-12-21.txt\", \"2019-12-28.txt\", \"2020-01-04.txt\", \"2020-01-11.txt\", \"2020-01-18.txt\", \"2020-01-25.txt\", \"2020-02-01.txt\", \"2020-02-08.txt\", \"2020-02-15.txt\", \"2020-02-22.txt\", \"2020-02-29.txt\", \"2020-03-07.txt\", \"2020-03-14.txt\", \"2020-03-21.txt\", \"2020-03-28.txt\", \"2020-04-04.txt\", \"2020-04-11.txt\", \"2020-04-18.txt\", \"2020-04-25.txt\", \"2020-05-02.txt\"], \"xaxis\": \"x\", \"y\": [13.0, 13.0, 13.0, 13.0, 13.0, 13.0, 13.0, 13.0, 13.0, 13.0, 13.0, 13.0, 13.0, 13.0, 13.0, 13.0, 13.0, 13.0, 13.0, 13.0, 13.0, 13.0, 13.0, 13.0, 13.0, 13.0, 13.0, 13.0, 13.0, 13.0, 13.0, 13.0, 13.0, 13.0, 13.0, 15.0, 14.0, 14.0, 14.0, 14.0, 14.0, 14.0, 14.0, 14.0, 15.0, 15.0, 15.0, 15.0, 15.0, 15.0, 15.0, 15.0], \"yaxis\": \"y\"}, {\"hoverlabel\": {\"namelength\": 0}, \"hovertemplate\": \"index=/data/reddylab/Hazel<br>variable=%{x}<br>value=%{y}\", \"legendgroup\": \"/data/reddylab/Hazel\", \"marker\": {\"color\": \"#FF6692\", \"symbol\": \"circle\"}, \"mode\": \"markers+lines\", \"name\": \"/data/reddylab/Hazel\", \"showlegend\": true, \"type\": \"scattergl\", \"x\": [\"2019-05-11.txt\", \"2019-05-18.txt\", \"2019-05-25.txt\", \"2019-05-31.txt\", \"2019-06-08.txt\", \"2019-06-14.txt\", \"2019-06-22.txt\", \"2019-06-28.txt\", \"2019-07-05.txt\", \"2019-07-13.txt\", \"2019-07-19.txt\", \"2019-07-26.txt\", \"2019-08-02.txt\", \"2019-08-10.txt\", \"2019-08-17.txt\", \"2019-08-24.txt\", \"2019-08-31.txt\", \"2019-09-07.txt\", \"2019-09-14.txt\", \"2019-09-21.txt\", \"2019-09-28.txt\", \"2019-10-05.txt\", \"2019-10-12.txt\", \"2019-10-19.txt\", \"2019-10-26.txt\", \"2019-11-02.txt\", \"2019-11-09.txt\", \"2019-11-16.txt\", \"2019-11-23.txt\", \"2019-11-30.txt\", \"2019-12-07.txt\", \"2019-12-14.txt\", \"2019-12-21.txt\", \"2019-12-28.txt\", \"2020-01-04.txt\", \"2020-01-11.txt\", \"2020-01-18.txt\", \"2020-01-25.txt\", \"2020-02-01.txt\", \"2020-02-08.txt\", \"2020-02-15.txt\", \"2020-02-22.txt\", \"2020-02-29.txt\", \"2020-03-07.txt\", \"2020-03-14.txt\", \"2020-03-21.txt\", \"2020-03-28.txt\", \"2020-04-04.txt\", \"2020-04-11.txt\", \"2020-04-18.txt\", \"2020-04-25.txt\", \"2020-05-02.txt\"], \"xaxis\": \"x\", \"y\": [0.0, 0.0, 0.0, 0.0, 0.0, 0.0, 0.708984375, 0.708984375, 0.708984375, 0.708984375, 0.708984375, 0.708984375, 0.708984375, 0.708984375, 0.708984375, 0.708984375, 0.708984375, 0.708984375, 0.708984375, 0.708984375, 0.708984375, 0.708984375, 0.708984375, 0.708984375, 0.708984375, 0.708984375, 0.708984375, 0.708984375, 0.708984375, 0.708984375, 0.708984375, 0.708984375, 0.708984375, 0.708984375, 0.708984375, 0.708984375, 0.708984375, 0.708984375, 0.708984375, 0.708984375, 0.708984375, 0.708984375, 0.708984375, 0.708984375, 0.708984375, 0.708984375, 0.708984375, 0.708984375, 0.708984375, 0.708984375, 0.708984375, 0.708984375], \"yaxis\": \"y\"}, {\"hoverlabel\": {\"namelength\": 0}, \"hovertemplate\": \"index=/data/reddylab/Jungkyun<br>variable=%{x}<br>value=%{y}\", \"legendgroup\": \"/data/reddylab/Jungkyun\", \"marker\": {\"color\": \"#B6E880\", \"symbol\": \"circle\"}, \"mode\": \"markers+lines\", \"name\": \"/data/reddylab/Jungkyun\", \"showlegend\": true, \"type\": \"scattergl\", \"x\": [\"2019-05-11.txt\", \"2019-05-18.txt\", \"2019-05-25.txt\", \"2019-05-31.txt\", \"2019-06-08.txt\", \"2019-06-14.txt\", \"2019-06-22.txt\", \"2019-06-28.txt\", \"2019-07-05.txt\", \"2019-07-13.txt\", \"2019-07-19.txt\", \"2019-07-26.txt\", \"2019-08-02.txt\", \"2019-08-10.txt\", \"2019-08-17.txt\", \"2019-08-24.txt\", \"2019-08-31.txt\", \"2019-09-07.txt\", \"2019-09-14.txt\", \"2019-09-21.txt\", \"2019-09-28.txt\", \"2019-10-05.txt\", \"2019-10-12.txt\", \"2019-10-19.txt\", \"2019-10-26.txt\", \"2019-11-02.txt\", \"2019-11-09.txt\", \"2019-11-16.txt\", \"2019-11-23.txt\", \"2019-11-30.txt\", \"2019-12-07.txt\", \"2019-12-14.txt\", \"2019-12-21.txt\", \"2019-12-28.txt\", \"2020-01-04.txt\", \"2020-01-11.txt\", \"2020-01-18.txt\", \"2020-01-25.txt\", \"2020-02-01.txt\", \"2020-02-08.txt\", \"2020-02-15.txt\", \"2020-02-22.txt\", \"2020-02-29.txt\", \"2020-03-07.txt\", \"2020-03-14.txt\", \"2020-03-21.txt\", \"2020-03-28.txt\", \"2020-04-04.txt\", \"2020-04-11.txt\", \"2020-04-18.txt\", \"2020-04-25.txt\", \"2020-05-02.txt\"], \"xaxis\": \"x\", \"y\": [4.1, 4.1, 4.1, 4.1, 4.1, 4.1, 4.2, 4.2, 4.3, 4.3, 4.3, 4.3, 4.3, 4.3, 4.3, 4.3, 4.3, 4.3, 4.3, 4.3, 4.4, 4.4, 4.4, 4.4, 4.4, 4.4, 4.4, 4.5, 4.5, 4.5, 4.5, 4.5, 4.5, 4.5, 4.5, 4.5, 4.5, 4.5, 4.5, 4.5, 5.3, 5.3, 5.3, 5.3, 5.4, 5.6, 5.6, 5.7, 5.8, 5.8, 5.8, 5.8], \"yaxis\": \"y\"}, {\"hoverlabel\": {\"namelength\": 0}, \"hovertemplate\": \"index=/data/reddylab/Keith<br>variable=%{x}<br>value=%{y}\", \"legendgroup\": \"/data/reddylab/Keith\", \"marker\": {\"color\": \"#FF97FF\", \"symbol\": \"circle\"}, \"mode\": \"markers+lines\", \"name\": \"/data/reddylab/Keith\", \"showlegend\": true, \"type\": \"scattergl\", \"x\": [\"2019-05-11.txt\", \"2019-05-18.txt\", \"2019-05-25.txt\", \"2019-05-31.txt\", \"2019-06-08.txt\", \"2019-06-14.txt\", \"2019-06-22.txt\", \"2019-06-28.txt\", \"2019-07-05.txt\", \"2019-07-13.txt\", \"2019-07-19.txt\", \"2019-07-26.txt\", \"2019-08-02.txt\", \"2019-08-10.txt\", \"2019-08-17.txt\", \"2019-08-24.txt\", \"2019-08-31.txt\", \"2019-09-07.txt\", \"2019-09-14.txt\", \"2019-09-21.txt\", \"2019-09-28.txt\", \"2019-10-05.txt\", \"2019-10-12.txt\", \"2019-10-19.txt\", \"2019-10-26.txt\", \"2019-11-02.txt\", \"2019-11-09.txt\", \"2019-11-16.txt\", \"2019-11-23.txt\", \"2019-11-30.txt\", \"2019-12-07.txt\", \"2019-12-14.txt\", \"2019-12-21.txt\", \"2019-12-28.txt\", \"2020-01-04.txt\", \"2020-01-11.txt\", \"2020-01-18.txt\", \"2020-01-25.txt\", \"2020-02-01.txt\", \"2020-02-08.txt\", \"2020-02-15.txt\", \"2020-02-22.txt\", \"2020-02-29.txt\", \"2020-03-07.txt\", \"2020-03-14.txt\", \"2020-03-21.txt\", \"2020-03-28.txt\", \"2020-04-04.txt\", \"2020-04-11.txt\", \"2020-04-18.txt\", \"2020-04-25.txt\", \"2020-05-02.txt\"], \"xaxis\": \"x\", \"y\": [0.80078125, 0.8212890625, 0.8212890625, 0.8212890625, 0.8212890625, 0.8212890625, 0.8212890625, 0.8212890625, 0.828125, 0.828125, 0.828125, 0.828125, 0.845703125, 0.845703125, 0.845703125, 0.845703125, 0.845703125, 0.845703125, 0.845703125, 0.845703125, 0.845703125, 0.845703125, 0.845703125, 0.845703125, 0.845703125, 0.845703125, 0.845703125, 0.845703125, 0.845703125, 0.845703125, 0.845703125, 0.845703125, 0.845703125, 0.845703125, 0.845703125, 0.845703125, 0.845703125, 0.845703125, 0.951171875, 1.1, 1.1, 1.1, 1.1, 1.1, 1.1, 0.8740234375, 0.8740234375, 0.8740234375, 0.8740234375, 0.8115234375, 0.8115234375, 0.8056640625], \"yaxis\": \"y\"}, {\"hoverlabel\": {\"namelength\": 0}, \"hovertemplate\": \"index=/data/reddylab/Reference_Data<br>variable=%{x}<br>value=%{y}\", \"legendgroup\": \"/data/reddylab/Reference_Data\", \"marker\": {\"color\": \"#FECB52\", \"symbol\": \"circle\"}, \"mode\": \"markers+lines\", \"name\": \"/data/reddylab/Reference_Data\", \"showlegend\": true, \"type\": \"scattergl\", \"x\": [\"2019-05-11.txt\", \"2019-05-18.txt\", \"2019-05-25.txt\", \"2019-05-31.txt\", \"2019-06-08.txt\", \"2019-06-14.txt\", \"2019-06-22.txt\", \"2019-06-28.txt\", \"2019-07-05.txt\", \"2019-07-13.txt\", \"2019-07-19.txt\", \"2019-07-26.txt\", \"2019-08-02.txt\", \"2019-08-10.txt\", \"2019-08-17.txt\", \"2019-08-24.txt\", \"2019-08-31.txt\", \"2019-09-07.txt\", \"2019-09-14.txt\", \"2019-09-21.txt\", \"2019-09-28.txt\", \"2019-10-05.txt\", \"2019-10-12.txt\", \"2019-10-19.txt\", \"2019-10-26.txt\", \"2019-11-02.txt\", \"2019-11-09.txt\", \"2019-11-16.txt\", \"2019-11-23.txt\", \"2019-11-30.txt\", \"2019-12-07.txt\", \"2019-12-14.txt\", \"2019-12-21.txt\", \"2019-12-28.txt\", \"2020-01-04.txt\", \"2020-01-11.txt\", \"2020-01-18.txt\", \"2020-01-25.txt\", \"2020-02-01.txt\", \"2020-02-08.txt\", \"2020-02-15.txt\", \"2020-02-22.txt\", \"2020-02-29.txt\", \"2020-03-07.txt\", \"2020-03-14.txt\", \"2020-03-21.txt\", \"2020-03-28.txt\", \"2020-04-04.txt\", \"2020-04-11.txt\", \"2020-04-18.txt\", \"2020-04-25.txt\", \"2020-05-02.txt\"], \"xaxis\": \"x\", \"y\": [23.0, 23.0, 23.0, 23.0, 23.0, 23.0, 23.0, 23.0, 23.0, 23.0, 23.0, 23.0, 23.0, 23.0, 23.0, 24.0, 24.0, 24.0, 24.0, 24.0, 24.0, 24.0, 24.0, 24.0, 24.0, 24.0, 24.0, 24.0, 24.0, 24.0, 24.0, 24.0, 24.0, 24.0, 24.0, 24.0, 3.9, 3.9, 3.9, 3.9, 3.9, 3.9, 3.9, 3.9, 3.9, 3.9, 3.9, 3.9, 3.9, 3.9, 3.9, 3.9], \"yaxis\": \"y\"}, {\"hoverlabel\": {\"namelength\": 0}, \"hovertemplate\": \"index=/data/reddylab/Tim<br>variable=%{x}<br>value=%{y}\", \"legendgroup\": \"/data/reddylab/Tim\", \"marker\": {\"color\": \"#636efa\", \"symbol\": \"circle\"}, \"mode\": \"markers+lines\", \"name\": \"/data/reddylab/Tim\", \"showlegend\": true, \"type\": \"scattergl\", \"x\": [\"2019-05-11.txt\", \"2019-05-18.txt\", \"2019-05-25.txt\", \"2019-05-31.txt\", \"2019-06-08.txt\", \"2019-06-14.txt\", \"2019-06-22.txt\", \"2019-06-28.txt\", \"2019-07-05.txt\", \"2019-07-13.txt\", \"2019-07-19.txt\", \"2019-07-26.txt\", \"2019-08-02.txt\", \"2019-08-10.txt\", \"2019-08-17.txt\", \"2019-08-24.txt\", \"2019-08-31.txt\", \"2019-09-07.txt\", \"2019-09-14.txt\", \"2019-09-21.txt\", \"2019-09-28.txt\", \"2019-10-05.txt\", \"2019-10-12.txt\", \"2019-10-19.txt\", \"2019-10-26.txt\", \"2019-11-02.txt\", \"2019-11-09.txt\", \"2019-11-16.txt\", \"2019-11-23.txt\", \"2019-11-30.txt\", \"2019-12-07.txt\", \"2019-12-14.txt\", \"2019-12-21.txt\", \"2019-12-28.txt\", \"2020-01-04.txt\", \"2020-01-11.txt\", \"2020-01-18.txt\", \"2020-01-25.txt\", \"2020-02-01.txt\", \"2020-02-08.txt\", \"2020-02-15.txt\", \"2020-02-22.txt\", \"2020-02-29.txt\", \"2020-03-07.txt\", \"2020-03-14.txt\", \"2020-03-21.txt\", \"2020-03-28.txt\", \"2020-04-04.txt\", \"2020-04-11.txt\", \"2020-04-18.txt\", \"2020-04-25.txt\", \"2020-05-02.txt\"], \"xaxis\": \"x\", \"y\": [1.9, 1.9, 1.9, 1.9, 1.9, 1.9, 1.9, 1.9, 1.9, 1.9, 1.9, 1.9, 1.9, 1.9, 1.9, 1.9, 1.9, 1.9, 1.9, 1.9, 1.9, 1.9, 1.9, 1.9, 1.9, 1.9, 1.9, 1.9, 1.9, 1.9, 1.9, 1.9, 1.9, 1.9, 1.9, 1.9, 1.9, 1.9, 1.9, 1.9, 1.9, 1.9, 1.9, 1.9, 1.9, 1.9, 1.9, 1.9, 1.9, 1.9, 1.9, 1.9], \"yaxis\": \"y\"}, {\"hoverlabel\": {\"namelength\": 0}, \"hovertemplate\": \"index=/data/reddylab/Tony<br>variable=%{x}<br>value=%{y}\", \"legendgroup\": \"/data/reddylab/Tony\", \"marker\": {\"color\": \"#EF553B\", \"symbol\": \"circle\"}, \"mode\": \"markers+lines\", \"name\": \"/data/reddylab/Tony\", \"showlegend\": true, \"type\": \"scattergl\", \"x\": [\"2019-05-11.txt\", \"2019-05-18.txt\", \"2019-05-25.txt\", \"2019-05-31.txt\", \"2019-06-08.txt\", \"2019-06-14.txt\", \"2019-06-22.txt\", \"2019-06-28.txt\", \"2019-07-05.txt\", \"2019-07-13.txt\", \"2019-07-19.txt\", \"2019-07-26.txt\", \"2019-08-02.txt\", \"2019-08-10.txt\", \"2019-08-17.txt\", \"2019-08-24.txt\", \"2019-08-31.txt\", \"2019-09-07.txt\", \"2019-09-14.txt\", \"2019-09-21.txt\", \"2019-09-28.txt\", \"2019-10-05.txt\", \"2019-10-12.txt\", \"2019-10-19.txt\", \"2019-10-26.txt\", \"2019-11-02.txt\", \"2019-11-09.txt\", \"2019-11-16.txt\", \"2019-11-23.txt\", \"2019-11-30.txt\", \"2019-12-07.txt\", \"2019-12-14.txt\", \"2019-12-21.txt\", \"2019-12-28.txt\", \"2020-01-04.txt\", \"2020-01-11.txt\", \"2020-01-18.txt\", \"2020-01-25.txt\", \"2020-02-01.txt\", \"2020-02-08.txt\", \"2020-02-15.txt\", \"2020-02-22.txt\", \"2020-02-29.txt\", \"2020-03-07.txt\", \"2020-03-14.txt\", \"2020-03-21.txt\", \"2020-03-28.txt\", \"2020-04-04.txt\", \"2020-04-11.txt\", \"2020-04-18.txt\", \"2020-04-25.txt\", \"2020-05-02.txt\"], \"xaxis\": \"x\", \"y\": [0.0, 0.0, 0.0, 0.0, 0.0, 0.0, 9.7, 9.7, 9.7, 9.7, 9.7, 9.7, 9.7, 9.7, 9.7, 9.7, 9.7, 9.7, 9.7, 9.7, 9.7, 9.7, 9.7, 9.7, 9.7, 9.7, 9.7, 9.7, 9.7, 9.7, 9.7, 9.7, 9.7, 9.7, 9.7, 9.7, 9.8, 9.8, 9.8, 9.8, 9.8, 9.8, 9.8, 9.8, 9.8, 9.8, 9.8, 9.8, 9.8, 9.8, 9.8, 9.8], \"yaxis\": \"y\"}, {\"hoverlabel\": {\"namelength\": 0}, \"hovertemplate\": \"index=/data/reddylab/YoungSook<br>variable=%{x}<br>value=%{y}\", \"legendgroup\": \"/data/reddylab/YoungSook\", \"marker\": {\"color\": \"#00cc96\", \"symbol\": \"circle\"}, \"mode\": \"markers+lines\", \"name\": \"/data/reddylab/YoungSook\", \"showlegend\": true, \"type\": \"scattergl\", \"x\": [\"2019-05-11.txt\", \"2019-05-18.txt\", \"2019-05-25.txt\", \"2019-05-31.txt\", \"2019-06-08.txt\", \"2019-06-14.txt\", \"2019-06-22.txt\", \"2019-06-28.txt\", \"2019-07-05.txt\", \"2019-07-13.txt\", \"2019-07-19.txt\", \"2019-07-26.txt\", \"2019-08-02.txt\", \"2019-08-10.txt\", \"2019-08-17.txt\", \"2019-08-24.txt\", \"2019-08-31.txt\", \"2019-09-07.txt\", \"2019-09-14.txt\", \"2019-09-21.txt\", \"2019-09-28.txt\", \"2019-10-05.txt\", \"2019-10-12.txt\", \"2019-10-19.txt\", \"2019-10-26.txt\", \"2019-11-02.txt\", \"2019-11-09.txt\", \"2019-11-16.txt\", \"2019-11-23.txt\", \"2019-11-30.txt\", \"2019-12-07.txt\", \"2019-12-14.txt\", \"2019-12-21.txt\", \"2019-12-28.txt\", \"2020-01-04.txt\", \"2020-01-11.txt\", \"2020-01-18.txt\", \"2020-01-25.txt\", \"2020-02-01.txt\", \"2020-02-08.txt\", \"2020-02-15.txt\", \"2020-02-22.txt\", \"2020-02-29.txt\", \"2020-03-07.txt\", \"2020-03-14.txt\", \"2020-03-21.txt\", \"2020-03-28.txt\", \"2020-04-04.txt\", \"2020-04-11.txt\", \"2020-04-18.txt\", \"2020-04-25.txt\", \"2020-05-02.txt\"], \"xaxis\": \"x\", \"y\": [0.0, 0.0, 0.0, 0.0, 0.0, 0.0, 38.0, 40.0, 42.0, 41.0, 43.0, 43.0, 43.0, 44.0, 44.0, 45.0, 44.0, 44.0, 44.0, 44.0, 44.0, 44.0, 44.0, 44.0, 44.0, 44.0, 44.0, 44.0, 44.0, 44.0, 44.0, 44.0, 44.0, 44.0, 44.0, 44.0, 44.0, 44.0, 44.0, 44.0, 44.0, 44.0, 44.0, 44.0, 44.0, 44.0, 44.0, 44.0, 44.0, 44.0, 44.0, 45.0], \"yaxis\": \"y\"}, {\"hoverlabel\": {\"namelength\": 0}, \"hovertemplate\": \"index=/data/reddylab/bmajoros<br>variable=%{x}<br>value=%{y}\", \"legendgroup\": \"/data/reddylab/bmajoros\", \"marker\": {\"color\": \"#ab63fa\", \"symbol\": \"circle\"}, \"mode\": \"markers+lines\", \"name\": \"/data/reddylab/bmajoros\", \"showlegend\": true, \"type\": \"scattergl\", \"x\": [\"2019-05-11.txt\", \"2019-05-18.txt\", \"2019-05-25.txt\", \"2019-05-31.txt\", \"2019-06-08.txt\", \"2019-06-14.txt\", \"2019-06-22.txt\", \"2019-06-28.txt\", \"2019-07-05.txt\", \"2019-07-13.txt\", \"2019-07-19.txt\", \"2019-07-26.txt\", \"2019-08-02.txt\", \"2019-08-10.txt\", \"2019-08-17.txt\", \"2019-08-24.txt\", \"2019-08-31.txt\", \"2019-09-07.txt\", \"2019-09-14.txt\", \"2019-09-21.txt\", \"2019-09-28.txt\", \"2019-10-05.txt\", \"2019-10-12.txt\", \"2019-10-19.txt\", \"2019-10-26.txt\", \"2019-11-02.txt\", \"2019-11-09.txt\", \"2019-11-16.txt\", \"2019-11-23.txt\", \"2019-11-30.txt\", \"2019-12-07.txt\", \"2019-12-14.txt\", \"2019-12-21.txt\", \"2019-12-28.txt\", \"2020-01-04.txt\", \"2020-01-11.txt\", \"2020-01-18.txt\", \"2020-01-25.txt\", \"2020-02-01.txt\", \"2020-02-08.txt\", \"2020-02-15.txt\", \"2020-02-22.txt\", \"2020-02-29.txt\", \"2020-03-07.txt\", \"2020-03-14.txt\", \"2020-03-21.txt\", \"2020-03-28.txt\", \"2020-04-04.txt\", \"2020-04-11.txt\", \"2020-04-18.txt\", \"2020-04-25.txt\", \"2020-05-02.txt\"], \"xaxis\": \"x\", \"y\": [0.0, 0.0, 0.0, 0.0, 0.0, 0.0, 3.0, 3.0, 3.0, 3.1, 3.1, 3.1, 3.1, 3.1, 3.1, 2.7, 2.7, 2.7, 2.7, 2.7, 2.7, 2.6, 2.7, 2.7, 2.6, 2.6, 2.6, 2.6, 2.6, 2.6, 2.6, 2.6, 2.6, 2.6, 2.6, 2.6, 2.6, 2.6, 2.6, 2.7, 2.7, 2.7, 2.7, 2.7, 2.7, 2.7, 2.7, 2.7, 2.7, 2.7, 2.7, 2.7], \"yaxis\": \"y\"}, {\"hoverlabel\": {\"namelength\": 0}, \"hovertemplate\": \"index=/data/reddylab/gjohnson<br>variable=%{x}<br>value=%{y}\", \"legendgroup\": \"/data/reddylab/gjohnson\", \"marker\": {\"color\": \"#FFA15A\", \"symbol\": \"circle\"}, \"mode\": \"markers+lines\", \"name\": \"/data/reddylab/gjohnson\", \"showlegend\": true, \"type\": \"scattergl\", \"x\": [\"2019-05-11.txt\", \"2019-05-18.txt\", \"2019-05-25.txt\", \"2019-05-31.txt\", \"2019-06-08.txt\", \"2019-06-14.txt\", \"2019-06-22.txt\", \"2019-06-28.txt\", \"2019-07-05.txt\", \"2019-07-13.txt\", \"2019-07-19.txt\", \"2019-07-26.txt\", \"2019-08-02.txt\", \"2019-08-10.txt\", \"2019-08-17.txt\", \"2019-08-24.txt\", \"2019-08-31.txt\", \"2019-09-07.txt\", \"2019-09-14.txt\", \"2019-09-21.txt\", \"2019-09-28.txt\", \"2019-10-05.txt\", \"2019-10-12.txt\", \"2019-10-19.txt\", \"2019-10-26.txt\", \"2019-11-02.txt\", \"2019-11-09.txt\", \"2019-11-16.txt\", \"2019-11-23.txt\", \"2019-11-30.txt\", \"2019-12-07.txt\", \"2019-12-14.txt\", \"2019-12-21.txt\", \"2019-12-28.txt\", \"2020-01-04.txt\", \"2020-01-11.txt\", \"2020-01-18.txt\", \"2020-01-25.txt\", \"2020-02-01.txt\", \"2020-02-08.txt\", \"2020-02-15.txt\", \"2020-02-22.txt\", \"2020-02-29.txt\", \"2020-03-07.txt\", \"2020-03-14.txt\", \"2020-03-21.txt\", \"2020-03-28.txt\", \"2020-04-04.txt\", \"2020-04-11.txt\", \"2020-04-18.txt\", \"2020-04-25.txt\", \"2020-05-02.txt\"], \"xaxis\": \"x\", \"y\": [0.0, 0.0, 0.0, 0.0, 0.0, 0.0, 16.0, 16.0, 16.0, 16.0, 16.0, 16.0, 16.0, 16.0, 16.0, 16.0, 16.0, 16.0, 16.0, 16.0, 16.0, 16.0, 16.0, 16.0, 16.0, 16.0, 16.0, 16.0, 16.0, 16.0, 16.0, 16.0, 16.0, 16.0, 16.0, 22.0, 24.0, 25.0, 26.0, 22.0, 22.0, 26.0, 26.0, 26.0, 30.0, 34.0, 35.0, 37.0, 37.0, 37.0, 28.0, 26.0], \"yaxis\": \"y\"}, {\"hoverlabel\": {\"namelength\": 0}, \"hovertemplate\": \"index=/data/reddylab/miseq_windows<br>variable=%{x}<br>value=%{y}\", \"legendgroup\": \"/data/reddylab/miseq_windows\", \"marker\": {\"color\": \"#19d3f3\", \"symbol\": \"circle\"}, \"mode\": \"markers+lines\", \"name\": \"/data/reddylab/miseq_windows\", \"showlegend\": true, \"type\": \"scattergl\", \"x\": [\"2019-05-11.txt\", \"2019-05-18.txt\", \"2019-05-25.txt\", \"2019-05-31.txt\", \"2019-06-08.txt\", \"2019-06-14.txt\", \"2019-06-22.txt\", \"2019-06-28.txt\", \"2019-07-05.txt\", \"2019-07-13.txt\", \"2019-07-19.txt\", \"2019-07-26.txt\", \"2019-08-02.txt\", \"2019-08-10.txt\", \"2019-08-17.txt\", \"2019-08-24.txt\", \"2019-08-31.txt\", \"2019-09-07.txt\", \"2019-09-14.txt\", \"2019-09-21.txt\", \"2019-09-28.txt\", \"2019-10-05.txt\", \"2019-10-12.txt\", \"2019-10-19.txt\", \"2019-10-26.txt\", \"2019-11-02.txt\", \"2019-11-09.txt\", \"2019-11-16.txt\", \"2019-11-23.txt\", \"2019-11-30.txt\", \"2019-12-07.txt\", \"2019-12-14.txt\", \"2019-12-21.txt\", \"2019-12-28.txt\", \"2020-01-04.txt\", \"2020-01-11.txt\", \"2020-01-18.txt\", \"2020-01-25.txt\", \"2020-02-01.txt\", \"2020-02-08.txt\", \"2020-02-15.txt\", \"2020-02-22.txt\", \"2020-02-29.txt\", \"2020-03-07.txt\", \"2020-03-14.txt\", \"2020-03-21.txt\", \"2020-03-28.txt\", \"2020-04-04.txt\", \"2020-04-11.txt\", \"2020-04-18.txt\", \"2020-04-25.txt\", \"2020-05-02.txt\"], \"xaxis\": \"x\", \"y\": [0.0, 0.0, 0.0, 0.0, 0.0, 0.0, 0.896484375, 0.896484375, 0.896484375, 0.896484375, 0.896484375, 0.896484375, 0.896484375, 0.896484375, 0.896484375, 0.896484375, 0.896484375, 0.896484375, 0.896484375, 0.896484375, 0.896484375, 0.896484375, 0.896484375, 1.2, 1.2, 1.2, 1.2, 1.2, 1.2, 1.2, 1.2, 1.2, 1.2, 1.2, 1.2, 1.2, 1.2, 1.2, 1.2, 1.2, 1.2, 1.2, 1.2, 1.2, 1.4, 1.4, 1.4, 1.4, 1.4, 1.4, 1.4, 1.4], \"yaxis\": \"y\"}, {\"hoverlabel\": {\"namelength\": 0}, \"hovertemplate\": \"index=/data/reddylab/projects<br>variable=%{x}<br>value=%{y}\", \"legendgroup\": \"/data/reddylab/projects\", \"marker\": {\"color\": \"#FF6692\", \"symbol\": \"circle\"}, \"mode\": \"markers+lines\", \"name\": \"/data/reddylab/projects\", \"showlegend\": true, \"type\": \"scattergl\", \"x\": [\"2019-05-11.txt\", \"2019-05-18.txt\", \"2019-05-25.txt\", \"2019-05-31.txt\", \"2019-06-08.txt\", \"2019-06-14.txt\", \"2019-06-22.txt\", \"2019-06-28.txt\", \"2019-07-05.txt\", \"2019-07-13.txt\", \"2019-07-19.txt\", \"2019-07-26.txt\", \"2019-08-02.txt\", \"2019-08-10.txt\", \"2019-08-17.txt\", \"2019-08-24.txt\", \"2019-08-31.txt\", \"2019-09-07.txt\", \"2019-09-14.txt\", \"2019-09-21.txt\", \"2019-09-28.txt\", \"2019-10-05.txt\", \"2019-10-12.txt\", \"2019-10-19.txt\", \"2019-10-26.txt\", \"2019-11-02.txt\", \"2019-11-09.txt\", \"2019-11-16.txt\", \"2019-11-23.txt\", \"2019-11-30.txt\", \"2019-12-07.txt\", \"2019-12-14.txt\", \"2019-12-21.txt\", \"2019-12-28.txt\", \"2020-01-04.txt\", \"2020-01-11.txt\", \"2020-01-18.txt\", \"2020-01-25.txt\", \"2020-02-01.txt\", \"2020-02-08.txt\", \"2020-02-15.txt\", \"2020-02-22.txt\", \"2020-02-29.txt\", \"2020-03-07.txt\", \"2020-03-14.txt\", \"2020-03-21.txt\", \"2020-03-28.txt\", \"2020-04-04.txt\", \"2020-04-11.txt\", \"2020-04-18.txt\", \"2020-04-25.txt\", \"2020-05-02.txt\"], \"xaxis\": \"x\", \"y\": [61.0, 61.0, 61.0, 61.0, 61.0, 61.0, 60.0, 60.0, 60.0, 60.0, 60.0, 60.0, 60.0, 60.0, 61.0, 61.0, 61.0, 61.0, 61.0, 61.0, 61.0, 61.0, 61.0, 61.0, 61.0, 58.0, 58.0, 58.0, 58.0, 58.0, 58.0, 58.0, 58.0, 58.0, 58.0, 56.0, 56.0, 56.0, 56.0, 56.0, 56.0, 56.0, 56.0, 56.0, 56.0, 55.0, 55.0, 55.0, 55.0, 55.0, 55.0, 55.0], \"yaxis\": \"y\"}, {\"hoverlabel\": {\"namelength\": 0}, \"hovertemplate\": \"index=/data/reddylab/scarlett<br>variable=%{x}<br>value=%{y}\", \"legendgroup\": \"/data/reddylab/scarlett\", \"marker\": {\"color\": \"#B6E880\", \"symbol\": \"circle\"}, \"mode\": \"markers+lines\", \"name\": \"/data/reddylab/scarlett\", \"showlegend\": true, \"type\": \"scattergl\", \"x\": [\"2019-05-11.txt\", \"2019-05-18.txt\", \"2019-05-25.txt\", \"2019-05-31.txt\", \"2019-06-08.txt\", \"2019-06-14.txt\", \"2019-06-22.txt\", \"2019-06-28.txt\", \"2019-07-05.txt\", \"2019-07-13.txt\", \"2019-07-19.txt\", \"2019-07-26.txt\", \"2019-08-02.txt\", \"2019-08-10.txt\", \"2019-08-17.txt\", \"2019-08-24.txt\", \"2019-08-31.txt\", \"2019-09-07.txt\", \"2019-09-14.txt\", \"2019-09-21.txt\", \"2019-09-28.txt\", \"2019-10-05.txt\", \"2019-10-12.txt\", \"2019-10-19.txt\", \"2019-10-26.txt\", \"2019-11-02.txt\", \"2019-11-09.txt\", \"2019-11-16.txt\", \"2019-11-23.txt\", \"2019-11-30.txt\", \"2019-12-07.txt\", \"2019-12-14.txt\", \"2019-12-21.txt\", \"2019-12-28.txt\", \"2020-01-04.txt\", \"2020-01-11.txt\", \"2020-01-18.txt\", \"2020-01-25.txt\", \"2020-02-01.txt\", \"2020-02-08.txt\", \"2020-02-15.txt\", \"2020-02-22.txt\", \"2020-02-29.txt\", \"2020-03-07.txt\", \"2020-03-14.txt\", \"2020-03-21.txt\", \"2020-03-28.txt\", \"2020-04-04.txt\", \"2020-04-11.txt\", \"2020-04-18.txt\", \"2020-04-25.txt\", \"2020-05-02.txt\"], \"xaxis\": \"x\", \"y\": [0.0, 0.0, 0.0, 0.0, 0.0, 0.0, 1.1, 1.1, 3.1, 4.8, 4.7, 4.8, 5.0, 5.1, 5.2, 5.2, 3.7, 3.8, 3.8, 3.8, 3.8, 3.8, 3.9, 3.9, 3.9, 4.0, 4.1, 4.0, 4.0, 4.0, 5.2, 5.2, 5.3, 6.0, 12.0, 12.0, 12.0, 12.0, 11.0, 11.0, 12.0, 11.0, 11.0, 12.0, 12.0, 13.0, 13.0, 14.0, 16.0, 21.0, 19.0, 6.0], \"yaxis\": \"y\"}, {\"hoverlabel\": {\"namelength\": 0}, \"hovertemplate\": \"index=/data/reddylab/scunningham<br>variable=%{x}<br>value=%{y}\", \"legendgroup\": \"/data/reddylab/scunningham\", \"marker\": {\"color\": \"#FF97FF\", \"symbol\": \"circle\"}, \"mode\": \"markers+lines\", \"name\": \"/data/reddylab/scunningham\", \"showlegend\": true, \"type\": \"scattergl\", \"x\": [\"2019-05-11.txt\", \"2019-05-18.txt\", \"2019-05-25.txt\", \"2019-05-31.txt\", \"2019-06-08.txt\", \"2019-06-14.txt\", \"2019-06-22.txt\", \"2019-06-28.txt\", \"2019-07-05.txt\", \"2019-07-13.txt\", \"2019-07-19.txt\", \"2019-07-26.txt\", \"2019-08-02.txt\", \"2019-08-10.txt\", \"2019-08-17.txt\", \"2019-08-24.txt\", \"2019-08-31.txt\", \"2019-09-07.txt\", \"2019-09-14.txt\", \"2019-09-21.txt\", \"2019-09-28.txt\", \"2019-10-05.txt\", \"2019-10-12.txt\", \"2019-10-19.txt\", \"2019-10-26.txt\", \"2019-11-02.txt\", \"2019-11-09.txt\", \"2019-11-16.txt\", \"2019-11-23.txt\", \"2019-11-30.txt\", \"2019-12-07.txt\", \"2019-12-14.txt\", \"2019-12-21.txt\", \"2019-12-28.txt\", \"2020-01-04.txt\", \"2020-01-11.txt\", \"2020-01-18.txt\", \"2020-01-25.txt\", \"2020-02-01.txt\", \"2020-02-08.txt\", \"2020-02-15.txt\", \"2020-02-22.txt\", \"2020-02-29.txt\", \"2020-03-07.txt\", \"2020-03-14.txt\", \"2020-03-21.txt\", \"2020-03-28.txt\", \"2020-04-04.txt\", \"2020-04-11.txt\", \"2020-04-18.txt\", \"2020-04-25.txt\", \"2020-05-02.txt\"], \"xaxis\": \"x\", \"y\": [0.0, 0.0, 0.0, 0.0, 0.0, 0.0, 0.666015625, 0.6767578125, 0.6767578125, 0.6767578125, 0.6767578125, 0.6767578125, 0.6767578125, 0.6767578125, 0.6767578125, 0.6767578125, 0.6767578125, 0.6767578125, 0.6767578125, 0.677734375, 0.677734375, 0.677734375, 0.677734375, 0.677734375, 0.677734375, 0.677734375, 0.677734375, 0.677734375, 0.677734375, 0.677734375, 0.677734375, 0.677734375, 0.677734375, 0.677734375, 0.677734375, 0.677734375, 0.677734375, 0.677734375, 0.677734375, 0.677734375, 0.677734375, 0.677734375, 0.677734375, 0.677734375, 0.677734375, 0.677734375, 0.677734375, 0.677734375, 0.6962890625, 0.6962890625, 0.6962890625, 0.6962890625], \"yaxis\": \"y\"}, {\"hoverlabel\": {\"namelength\": 0}, \"hovertemplate\": \"index=/data/reddylab/software<br>variable=%{x}<br>value=%{y}\", \"legendgroup\": \"/data/reddylab/software\", \"marker\": {\"color\": \"#FECB52\", \"symbol\": \"circle\"}, \"mode\": \"markers+lines\", \"name\": \"/data/reddylab/software\", \"showlegend\": true, \"type\": \"scattergl\", \"x\": [\"2019-05-11.txt\", \"2019-05-18.txt\", \"2019-05-25.txt\", \"2019-05-31.txt\", \"2019-06-08.txt\", \"2019-06-14.txt\", \"2019-06-22.txt\", \"2019-06-28.txt\", \"2019-07-05.txt\", \"2019-07-13.txt\", \"2019-07-19.txt\", \"2019-07-26.txt\", \"2019-08-02.txt\", \"2019-08-10.txt\", \"2019-08-17.txt\", \"2019-08-24.txt\", \"2019-08-31.txt\", \"2019-09-07.txt\", \"2019-09-14.txt\", \"2019-09-21.txt\", \"2019-09-28.txt\", \"2019-10-05.txt\", \"2019-10-12.txt\", \"2019-10-19.txt\", \"2019-10-26.txt\", \"2019-11-02.txt\", \"2019-11-09.txt\", \"2019-11-16.txt\", \"2019-11-23.txt\", \"2019-11-30.txt\", \"2019-12-07.txt\", \"2019-12-14.txt\", \"2019-12-21.txt\", \"2019-12-28.txt\", \"2020-01-04.txt\", \"2020-01-11.txt\", \"2020-01-18.txt\", \"2020-01-25.txt\", \"2020-02-01.txt\", \"2020-02-08.txt\", \"2020-02-15.txt\", \"2020-02-22.txt\", \"2020-02-29.txt\", \"2020-03-07.txt\", \"2020-03-14.txt\", \"2020-03-21.txt\", \"2020-03-28.txt\", \"2020-04-04.txt\", \"2020-04-11.txt\", \"2020-04-18.txt\", \"2020-04-25.txt\", \"2020-05-02.txt\"], \"xaxis\": \"x\", \"y\": [0.0, 0.0, 0.0, 0.0, 0.0, 0.0, 0.55078125, 0.55078125, 0.5595703125, 0.564453125, 0.56640625, 0.5693359375, 0.5693359375, 0.5693359375, 0.5732421875, 0.5810546875, 0.5810546875, 0.6376953125, 0.6494140625, 0.6494140625, 0.6494140625, 0.65234375, 0.65234375, 0.6533203125, 0.654296875, 0.654296875, 0.654296875, 0.6533203125, 0.6533203125, 0.6533203125, 0.6533203125, 0.654296875, 0.654296875, 0.654296875, 0.6552734375, 0.6552734375, 0.6552734375, 0.6572265625, 0.6650390625, 0.666015625, 0.666015625, 0.6669921875, 0.6669921875, 0.6669921875, 0.6669921875, 0.6669921875, 0.6669921875, 0.6669921875, 0.6669921875, 0.6669921875, 0.66796875, 0.673828125], \"yaxis\": \"y\"}],\n",
       "                        {\"legend\": {\"title\": {\"text\": \"index\"}, \"tracegroupgap\": 0}, \"template\": {\"data\": {\"bar\": [{\"error_x\": {\"color\": \"#2a3f5f\"}, \"error_y\": {\"color\": \"#2a3f5f\"}, \"marker\": {\"line\": {\"color\": \"#E5ECF6\", \"width\": 0.5}}, \"type\": \"bar\"}], \"barpolar\": [{\"marker\": {\"line\": {\"color\": \"#E5ECF6\", \"width\": 0.5}}, \"type\": \"barpolar\"}], \"carpet\": [{\"aaxis\": {\"endlinecolor\": \"#2a3f5f\", \"gridcolor\": \"white\", \"linecolor\": \"white\", \"minorgridcolor\": \"white\", \"startlinecolor\": \"#2a3f5f\"}, \"baxis\": {\"endlinecolor\": \"#2a3f5f\", \"gridcolor\": \"white\", \"linecolor\": \"white\", \"minorgridcolor\": \"white\", \"startlinecolor\": \"#2a3f5f\"}, \"type\": \"carpet\"}], \"choropleth\": [{\"colorbar\": {\"outlinewidth\": 0, \"ticks\": \"\"}, \"type\": \"choropleth\"}], \"contour\": [{\"colorbar\": {\"outlinewidth\": 0, \"ticks\": \"\"}, \"colorscale\": [[0.0, \"#0d0887\"], [0.1111111111111111, \"#46039f\"], [0.2222222222222222, \"#7201a8\"], [0.3333333333333333, \"#9c179e\"], [0.4444444444444444, \"#bd3786\"], [0.5555555555555556, \"#d8576b\"], [0.6666666666666666, \"#ed7953\"], [0.7777777777777778, \"#fb9f3a\"], [0.8888888888888888, \"#fdca26\"], [1.0, \"#f0f921\"]], \"type\": \"contour\"}], \"contourcarpet\": [{\"colorbar\": {\"outlinewidth\": 0, \"ticks\": \"\"}, \"type\": \"contourcarpet\"}], \"heatmap\": [{\"colorbar\": {\"outlinewidth\": 0, \"ticks\": \"\"}, \"colorscale\": [[0.0, \"#0d0887\"], [0.1111111111111111, \"#46039f\"], [0.2222222222222222, \"#7201a8\"], [0.3333333333333333, \"#9c179e\"], [0.4444444444444444, \"#bd3786\"], [0.5555555555555556, \"#d8576b\"], [0.6666666666666666, \"#ed7953\"], [0.7777777777777778, \"#fb9f3a\"], [0.8888888888888888, \"#fdca26\"], [1.0, \"#f0f921\"]], \"type\": \"heatmap\"}], \"heatmapgl\": [{\"colorbar\": {\"outlinewidth\": 0, \"ticks\": \"\"}, \"colorscale\": [[0.0, \"#0d0887\"], [0.1111111111111111, \"#46039f\"], [0.2222222222222222, \"#7201a8\"], [0.3333333333333333, \"#9c179e\"], [0.4444444444444444, \"#bd3786\"], [0.5555555555555556, \"#d8576b\"], [0.6666666666666666, \"#ed7953\"], [0.7777777777777778, \"#fb9f3a\"], [0.8888888888888888, \"#fdca26\"], [1.0, \"#f0f921\"]], \"type\": \"heatmapgl\"}], \"histogram\": [{\"marker\": {\"colorbar\": {\"outlinewidth\": 0, \"ticks\": \"\"}}, \"type\": \"histogram\"}], \"histogram2d\": [{\"colorbar\": {\"outlinewidth\": 0, \"ticks\": \"\"}, \"colorscale\": [[0.0, \"#0d0887\"], [0.1111111111111111, \"#46039f\"], [0.2222222222222222, \"#7201a8\"], [0.3333333333333333, \"#9c179e\"], [0.4444444444444444, \"#bd3786\"], [0.5555555555555556, \"#d8576b\"], [0.6666666666666666, \"#ed7953\"], [0.7777777777777778, \"#fb9f3a\"], [0.8888888888888888, \"#fdca26\"], [1.0, \"#f0f921\"]], \"type\": \"histogram2d\"}], \"histogram2dcontour\": [{\"colorbar\": {\"outlinewidth\": 0, \"ticks\": \"\"}, \"colorscale\": [[0.0, \"#0d0887\"], [0.1111111111111111, \"#46039f\"], [0.2222222222222222, \"#7201a8\"], [0.3333333333333333, \"#9c179e\"], [0.4444444444444444, \"#bd3786\"], [0.5555555555555556, \"#d8576b\"], [0.6666666666666666, \"#ed7953\"], [0.7777777777777778, \"#fb9f3a\"], [0.8888888888888888, \"#fdca26\"], [1.0, \"#f0f921\"]], \"type\": \"histogram2dcontour\"}], \"mesh3d\": [{\"colorbar\": {\"outlinewidth\": 0, \"ticks\": \"\"}, \"type\": \"mesh3d\"}], \"parcoords\": [{\"line\": {\"colorbar\": {\"outlinewidth\": 0, \"ticks\": \"\"}}, \"type\": \"parcoords\"}], \"pie\": [{\"automargin\": true, \"type\": \"pie\"}], \"scatter\": [{\"marker\": {\"colorbar\": {\"outlinewidth\": 0, \"ticks\": \"\"}}, \"type\": \"scatter\"}], \"scatter3d\": [{\"line\": {\"colorbar\": {\"outlinewidth\": 0, \"ticks\": \"\"}}, \"marker\": {\"colorbar\": {\"outlinewidth\": 0, \"ticks\": \"\"}}, \"type\": \"scatter3d\"}], \"scattercarpet\": [{\"marker\": {\"colorbar\": {\"outlinewidth\": 0, \"ticks\": \"\"}}, \"type\": \"scattercarpet\"}], \"scattergeo\": [{\"marker\": {\"colorbar\": {\"outlinewidth\": 0, \"ticks\": \"\"}}, \"type\": \"scattergeo\"}], \"scattergl\": [{\"marker\": {\"colorbar\": {\"outlinewidth\": 0, \"ticks\": \"\"}}, \"type\": \"scattergl\"}], \"scattermapbox\": [{\"marker\": {\"colorbar\": {\"outlinewidth\": 0, \"ticks\": \"\"}}, \"type\": \"scattermapbox\"}], \"scatterpolar\": [{\"marker\": {\"colorbar\": {\"outlinewidth\": 0, \"ticks\": \"\"}}, \"type\": \"scatterpolar\"}], \"scatterpolargl\": [{\"marker\": {\"colorbar\": {\"outlinewidth\": 0, \"ticks\": \"\"}}, \"type\": \"scatterpolargl\"}], \"scatterternary\": [{\"marker\": {\"colorbar\": {\"outlinewidth\": 0, \"ticks\": \"\"}}, \"type\": \"scatterternary\"}], \"surface\": [{\"colorbar\": {\"outlinewidth\": 0, \"ticks\": \"\"}, \"colorscale\": [[0.0, \"#0d0887\"], [0.1111111111111111, \"#46039f\"], [0.2222222222222222, \"#7201a8\"], [0.3333333333333333, \"#9c179e\"], [0.4444444444444444, \"#bd3786\"], [0.5555555555555556, \"#d8576b\"], [0.6666666666666666, \"#ed7953\"], [0.7777777777777778, \"#fb9f3a\"], [0.8888888888888888, \"#fdca26\"], [1.0, \"#f0f921\"]], \"type\": \"surface\"}], \"table\": [{\"cells\": {\"fill\": {\"color\": \"#EBF0F8\"}, \"line\": {\"color\": \"white\"}}, \"header\": {\"fill\": {\"color\": \"#C8D4E3\"}, \"line\": {\"color\": \"white\"}}, \"type\": \"table\"}]}, \"layout\": {\"annotationdefaults\": {\"arrowcolor\": \"#2a3f5f\", \"arrowhead\": 0, \"arrowwidth\": 1}, \"coloraxis\": {\"colorbar\": {\"outlinewidth\": 0, \"ticks\": \"\"}}, \"colorscale\": {\"diverging\": [[0, \"#8e0152\"], [0.1, \"#c51b7d\"], [0.2, \"#de77ae\"], [0.3, \"#f1b6da\"], [0.4, \"#fde0ef\"], [0.5, \"#f7f7f7\"], [0.6, \"#e6f5d0\"], [0.7, \"#b8e186\"], [0.8, \"#7fbc41\"], [0.9, \"#4d9221\"], [1, \"#276419\"]], \"sequential\": [[0.0, \"#0d0887\"], [0.1111111111111111, \"#46039f\"], [0.2222222222222222, \"#7201a8\"], [0.3333333333333333, \"#9c179e\"], [0.4444444444444444, \"#bd3786\"], [0.5555555555555556, \"#d8576b\"], [0.6666666666666666, \"#ed7953\"], [0.7777777777777778, \"#fb9f3a\"], [0.8888888888888888, \"#fdca26\"], [1.0, \"#f0f921\"]], \"sequentialminus\": [[0.0, \"#0d0887\"], [0.1111111111111111, \"#46039f\"], [0.2222222222222222, \"#7201a8\"], [0.3333333333333333, \"#9c179e\"], [0.4444444444444444, \"#bd3786\"], [0.5555555555555556, \"#d8576b\"], [0.6666666666666666, \"#ed7953\"], [0.7777777777777778, \"#fb9f3a\"], [0.8888888888888888, \"#fdca26\"], [1.0, \"#f0f921\"]]}, \"colorway\": [\"#636efa\", \"#EF553B\", \"#00cc96\", \"#ab63fa\", \"#FFA15A\", \"#19d3f3\", \"#FF6692\", \"#B6E880\", \"#FF97FF\", \"#FECB52\"], \"font\": {\"color\": \"#2a3f5f\"}, \"geo\": {\"bgcolor\": \"white\", \"lakecolor\": \"white\", \"landcolor\": \"#E5ECF6\", \"showlakes\": true, \"showland\": true, \"subunitcolor\": \"white\"}, \"hoverlabel\": {\"align\": \"left\"}, \"hovermode\": \"closest\", \"mapbox\": {\"style\": \"light\"}, \"paper_bgcolor\": \"white\", \"plot_bgcolor\": \"#E5ECF6\", \"polar\": {\"angularaxis\": {\"gridcolor\": \"white\", \"linecolor\": \"white\", \"ticks\": \"\"}, \"bgcolor\": \"#E5ECF6\", \"radialaxis\": {\"gridcolor\": \"white\", \"linecolor\": \"white\", \"ticks\": \"\"}}, \"scene\": {\"xaxis\": {\"backgroundcolor\": \"#E5ECF6\", \"gridcolor\": \"white\", \"gridwidth\": 2, \"linecolor\": \"white\", \"showbackground\": true, \"ticks\": \"\", \"zerolinecolor\": \"white\"}, \"yaxis\": {\"backgroundcolor\": \"#E5ECF6\", \"gridcolor\": \"white\", \"gridwidth\": 2, \"linecolor\": \"white\", \"showbackground\": true, \"ticks\": \"\", \"zerolinecolor\": \"white\"}, \"zaxis\": {\"backgroundcolor\": \"#E5ECF6\", \"gridcolor\": \"white\", \"gridwidth\": 2, \"linecolor\": \"white\", \"showbackground\": true, \"ticks\": \"\", \"zerolinecolor\": \"white\"}}, \"shapedefaults\": {\"line\": {\"color\": \"#2a3f5f\"}}, \"ternary\": {\"aaxis\": {\"gridcolor\": \"white\", \"linecolor\": \"white\", \"ticks\": \"\"}, \"baxis\": {\"gridcolor\": \"white\", \"linecolor\": \"white\", \"ticks\": \"\"}, \"bgcolor\": \"#E5ECF6\", \"caxis\": {\"gridcolor\": \"white\", \"linecolor\": \"white\", \"ticks\": \"\"}}, \"title\": {\"x\": 0.05}, \"xaxis\": {\"automargin\": true, \"gridcolor\": \"white\", \"linecolor\": \"white\", \"ticks\": \"\", \"title\": {\"standoff\": 15}, \"zerolinecolor\": \"white\", \"zerolinewidth\": 2}, \"yaxis\": {\"automargin\": true, \"gridcolor\": \"white\", \"linecolor\": \"white\", \"ticks\": \"\", \"title\": {\"standoff\": 15}, \"zerolinecolor\": \"white\", \"zerolinewidth\": 2}}}, \"title\": {\"text\": \"Reddylab disk usage (past 12 months)\"}, \"xaxis\": {\"anchor\": \"y\", \"domain\": [0.0, 1.0], \"title\": {\"text\": \"\"}}, \"yaxis\": {\"anchor\": \"x\", \"domain\": [0.0, 1.0], \"title\": {\"text\": \"TB\"}}},\n",
       "                        {\"responsive\": true}\n",
       "                    ).then(function(){\n",
       "                            \n",
       "var gd = document.getElementById('6d4e8d76-41a9-4a66-b08b-8f1601fa748d');\n",
       "var x = new MutationObserver(function (mutations, observer) {{\n",
       "        var display = window.getComputedStyle(gd).display;\n",
       "        if (!display || display === 'none') {{\n",
       "            console.log([gd, 'removed!']);\n",
       "            Plotly.purge(gd);\n",
       "            observer.disconnect();\n",
       "        }}\n",
       "}});\n",
       "\n",
       "// Listen for the removal of the full notebook cells\n",
       "var notebookContainer = gd.closest('#notebook-container');\n",
       "if (notebookContainer) {{\n",
       "    x.observe(notebookContainer, {childList: true});\n",
       "}}\n",
       "\n",
       "// Listen for the clearing of the current output cell\n",
       "var outputEl = gd.closest('.output');\n",
       "if (outputEl) {{\n",
       "    x.observe(outputEl, {childList: true});\n",
       "}}\n",
       "\n",
       "                        })\n",
       "                };\n",
       "                });\n",
       "            </script>\n",
       "        </div>"
      ]
     },
     "metadata": {},
     "output_type": "display_data"
    }
   ],
   "source": [
    "# Plot with plotly\n",
    "fig = px.scatter(res_melted, \n",
    "              x=\"variable\", \n",
    "              y=\"value\",\n",
    "              color='index',\n",
    "              title='Reddylab disk usage (past %d months)' % number_of_last_months)\n",
    "fig.update_layout(xaxis_title = '', yaxis_title = 'TB')\n",
    "for ii in range(len(fig.data)):\n",
    "    fig.data[ii].update(mode='markers+lines')\n",
    "fig.show()"
   ]
  },
  {
   "cell_type": "code",
   "execution_count": null,
   "metadata": {
    "collapsed": true
   },
   "outputs": [],
   "source": []
  }
 ],
 "metadata": {
  "kernelspec": {
   "display_name": "Python3 (alex_py3)",
   "language": "python",
   "name": "alex-py3"
  },
  "language_info": {
   "codemirror_mode": {
    "name": "ipython",
    "version": 3
   },
   "file_extension": ".py",
   "mimetype": "text/x-python",
   "name": "python",
   "nbconvert_exporter": "python",
   "pygments_lexer": "ipython3",
   "version": "3.7.6"
  }
 },
 "nbformat": 4,
 "nbformat_minor": 2
}
